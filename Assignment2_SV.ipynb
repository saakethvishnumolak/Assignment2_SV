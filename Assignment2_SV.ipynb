{
  "nbformat": 4,
  "nbformat_minor": 0,
  "metadata": {
    "colab": {
      "provenance": [],
      "collapsed_sections": [],
      "mount_file_id": "1z4CI0chrxsGJ2rFs4SpekP44VipN1rBM",
      "authorship_tag": "ABX9TyNPjh4YoCdxTnKXlbLCqkeY",
      "include_colab_link": true
    },
    "kernelspec": {
      "name": "python3",
      "display_name": "Python 3"
    },
    "language_info": {
      "name": "python"
    }
  },
  "cells": [
    {
      "cell_type": "markdown",
      "metadata": {
        "id": "view-in-github",
        "colab_type": "text"
      },
      "source": [
        "<a href=\"https://colab.research.google.com/github/saakethvishnumolak/Assignment2_SV/blob/main/Assignment2_SV.ipynb\" target=\"_parent\"><img src=\"https://colab.research.google.com/assets/colab-badge.svg\" alt=\"Open In Colab\"/></a>"
      ]
    },
    {
      "cell_type": "markdown",
      "source": [
        "# Assignment 2\n"
      ],
      "metadata": {
        "id": "IPaC-OA9cCJI"
      }
    },
    {
      "cell_type": "markdown",
      "source": [
        "### Importing Libraries\n"
      ],
      "metadata": {
        "id": "M73qBTZnb-0r"
      }
    },
    {
      "cell_type": "code",
      "execution_count": 135,
      "metadata": {
        "id": "JJS1UCHYaqUF"
      },
      "outputs": [],
      "source": [
        "import pandas as pd\n",
        "import matplotlib.pyplot as plt\n",
        "import numpy as np\n",
        "import seaborn as sns"
      ]
    },
    {
      "cell_type": "code",
      "source": [
        "data = pd.read_csv(\"/content/drive/MyDrive/Colab Notebooks/Assignments/Assignment2/AirQuality_Data.csv\")"
      ],
      "metadata": {
        "id": "_4D9_Uz6cBNo"
      },
      "execution_count": 136,
      "outputs": []
    },
    {
      "cell_type": "code",
      "source": [
        "data.head()"
      ],
      "metadata": {
        "colab": {
          "base_uri": "https://localhost:8080/",
          "height": 206
        },
        "id": "lcxKL17AckSv",
        "outputId": "ca821c85-4a58-4486-a3d0-ed34efc2552c"
      },
      "execution_count": 137,
      "outputs": [
        {
          "output_type": "execute_result",
          "data": {
            "text/plain": [
              "   No  year  month  day  hour  PM2.5  PM10  SO2   NO2     CO    O3  TEMP  \\\n",
              "0   1  2013      3    1     0    9.0   9.0  3.0  17.0  300.0  89.0  -0.5   \n",
              "1   2  2013      3    1     1    4.0   4.0  3.0  16.0  300.0  88.0  -0.7   \n",
              "2   3  2013      3    1     2    7.0   7.0  NaN  17.0  300.0  60.0  -1.2   \n",
              "3   4  2013      3    1     3    3.0   3.0  5.0  18.0    NaN   NaN  -1.4   \n",
              "4   5  2013      3    1     4    3.0   3.0  7.0   NaN  200.0  84.0  -1.9   \n",
              "\n",
              "     PRES  DEWP  RAIN   wd  WSPM station  \n",
              "0  1024.5 -21.4   0.0  NNW   5.7  Dongsi  \n",
              "1  1025.1 -22.1   0.0   NW   3.9  Dongsi  \n",
              "2  1025.3 -24.6   0.0  NNW   5.3  Dongsi  \n",
              "3  1026.2 -25.5   0.0    N   4.9  Dongsi  \n",
              "4  1027.1 -24.5   0.0  NNW   3.2  Dongsi  "
            ],
            "text/html": [
              "\n",
              "  <div id=\"df-c60067f2-21c0-4330-aee2-ad1df9a1d7b4\">\n",
              "    <div class=\"colab-df-container\">\n",
              "      <div>\n",
              "<style scoped>\n",
              "    .dataframe tbody tr th:only-of-type {\n",
              "        vertical-align: middle;\n",
              "    }\n",
              "\n",
              "    .dataframe tbody tr th {\n",
              "        vertical-align: top;\n",
              "    }\n",
              "\n",
              "    .dataframe thead th {\n",
              "        text-align: right;\n",
              "    }\n",
              "</style>\n",
              "<table border=\"1\" class=\"dataframe\">\n",
              "  <thead>\n",
              "    <tr style=\"text-align: right;\">\n",
              "      <th></th>\n",
              "      <th>No</th>\n",
              "      <th>year</th>\n",
              "      <th>month</th>\n",
              "      <th>day</th>\n",
              "      <th>hour</th>\n",
              "      <th>PM2.5</th>\n",
              "      <th>PM10</th>\n",
              "      <th>SO2</th>\n",
              "      <th>NO2</th>\n",
              "      <th>CO</th>\n",
              "      <th>O3</th>\n",
              "      <th>TEMP</th>\n",
              "      <th>PRES</th>\n",
              "      <th>DEWP</th>\n",
              "      <th>RAIN</th>\n",
              "      <th>wd</th>\n",
              "      <th>WSPM</th>\n",
              "      <th>station</th>\n",
              "    </tr>\n",
              "  </thead>\n",
              "  <tbody>\n",
              "    <tr>\n",
              "      <th>0</th>\n",
              "      <td>1</td>\n",
              "      <td>2013</td>\n",
              "      <td>3</td>\n",
              "      <td>1</td>\n",
              "      <td>0</td>\n",
              "      <td>9.0</td>\n",
              "      <td>9.0</td>\n",
              "      <td>3.0</td>\n",
              "      <td>17.0</td>\n",
              "      <td>300.0</td>\n",
              "      <td>89.0</td>\n",
              "      <td>-0.5</td>\n",
              "      <td>1024.5</td>\n",
              "      <td>-21.4</td>\n",
              "      <td>0.0</td>\n",
              "      <td>NNW</td>\n",
              "      <td>5.7</td>\n",
              "      <td>Dongsi</td>\n",
              "    </tr>\n",
              "    <tr>\n",
              "      <th>1</th>\n",
              "      <td>2</td>\n",
              "      <td>2013</td>\n",
              "      <td>3</td>\n",
              "      <td>1</td>\n",
              "      <td>1</td>\n",
              "      <td>4.0</td>\n",
              "      <td>4.0</td>\n",
              "      <td>3.0</td>\n",
              "      <td>16.0</td>\n",
              "      <td>300.0</td>\n",
              "      <td>88.0</td>\n",
              "      <td>-0.7</td>\n",
              "      <td>1025.1</td>\n",
              "      <td>-22.1</td>\n",
              "      <td>0.0</td>\n",
              "      <td>NW</td>\n",
              "      <td>3.9</td>\n",
              "      <td>Dongsi</td>\n",
              "    </tr>\n",
              "    <tr>\n",
              "      <th>2</th>\n",
              "      <td>3</td>\n",
              "      <td>2013</td>\n",
              "      <td>3</td>\n",
              "      <td>1</td>\n",
              "      <td>2</td>\n",
              "      <td>7.0</td>\n",
              "      <td>7.0</td>\n",
              "      <td>NaN</td>\n",
              "      <td>17.0</td>\n",
              "      <td>300.0</td>\n",
              "      <td>60.0</td>\n",
              "      <td>-1.2</td>\n",
              "      <td>1025.3</td>\n",
              "      <td>-24.6</td>\n",
              "      <td>0.0</td>\n",
              "      <td>NNW</td>\n",
              "      <td>5.3</td>\n",
              "      <td>Dongsi</td>\n",
              "    </tr>\n",
              "    <tr>\n",
              "      <th>3</th>\n",
              "      <td>4</td>\n",
              "      <td>2013</td>\n",
              "      <td>3</td>\n",
              "      <td>1</td>\n",
              "      <td>3</td>\n",
              "      <td>3.0</td>\n",
              "      <td>3.0</td>\n",
              "      <td>5.0</td>\n",
              "      <td>18.0</td>\n",
              "      <td>NaN</td>\n",
              "      <td>NaN</td>\n",
              "      <td>-1.4</td>\n",
              "      <td>1026.2</td>\n",
              "      <td>-25.5</td>\n",
              "      <td>0.0</td>\n",
              "      <td>N</td>\n",
              "      <td>4.9</td>\n",
              "      <td>Dongsi</td>\n",
              "    </tr>\n",
              "    <tr>\n",
              "      <th>4</th>\n",
              "      <td>5</td>\n",
              "      <td>2013</td>\n",
              "      <td>3</td>\n",
              "      <td>1</td>\n",
              "      <td>4</td>\n",
              "      <td>3.0</td>\n",
              "      <td>3.0</td>\n",
              "      <td>7.0</td>\n",
              "      <td>NaN</td>\n",
              "      <td>200.0</td>\n",
              "      <td>84.0</td>\n",
              "      <td>-1.9</td>\n",
              "      <td>1027.1</td>\n",
              "      <td>-24.5</td>\n",
              "      <td>0.0</td>\n",
              "      <td>NNW</td>\n",
              "      <td>3.2</td>\n",
              "      <td>Dongsi</td>\n",
              "    </tr>\n",
              "  </tbody>\n",
              "</table>\n",
              "</div>\n",
              "      <button class=\"colab-df-convert\" onclick=\"convertToInteractive('df-c60067f2-21c0-4330-aee2-ad1df9a1d7b4')\"\n",
              "              title=\"Convert this dataframe to an interactive table.\"\n",
              "              style=\"display:none;\">\n",
              "        \n",
              "  <svg xmlns=\"http://www.w3.org/2000/svg\" height=\"24px\"viewBox=\"0 0 24 24\"\n",
              "       width=\"24px\">\n",
              "    <path d=\"M0 0h24v24H0V0z\" fill=\"none\"/>\n",
              "    <path d=\"M18.56 5.44l.94 2.06.94-2.06 2.06-.94-2.06-.94-.94-2.06-.94 2.06-2.06.94zm-11 1L8.5 8.5l.94-2.06 2.06-.94-2.06-.94L8.5 2.5l-.94 2.06-2.06.94zm10 10l.94 2.06.94-2.06 2.06-.94-2.06-.94-.94-2.06-.94 2.06-2.06.94z\"/><path d=\"M17.41 7.96l-1.37-1.37c-.4-.4-.92-.59-1.43-.59-.52 0-1.04.2-1.43.59L10.3 9.45l-7.72 7.72c-.78.78-.78 2.05 0 2.83L4 21.41c.39.39.9.59 1.41.59.51 0 1.02-.2 1.41-.59l7.78-7.78 2.81-2.81c.8-.78.8-2.07 0-2.86zM5.41 20L4 18.59l7.72-7.72 1.47 1.35L5.41 20z\"/>\n",
              "  </svg>\n",
              "      </button>\n",
              "      \n",
              "  <style>\n",
              "    .colab-df-container {\n",
              "      display:flex;\n",
              "      flex-wrap:wrap;\n",
              "      gap: 12px;\n",
              "    }\n",
              "\n",
              "    .colab-df-convert {\n",
              "      background-color: #E8F0FE;\n",
              "      border: none;\n",
              "      border-radius: 50%;\n",
              "      cursor: pointer;\n",
              "      display: none;\n",
              "      fill: #1967D2;\n",
              "      height: 32px;\n",
              "      padding: 0 0 0 0;\n",
              "      width: 32px;\n",
              "    }\n",
              "\n",
              "    .colab-df-convert:hover {\n",
              "      background-color: #E2EBFA;\n",
              "      box-shadow: 0px 1px 2px rgba(60, 64, 67, 0.3), 0px 1px 3px 1px rgba(60, 64, 67, 0.15);\n",
              "      fill: #174EA6;\n",
              "    }\n",
              "\n",
              "    [theme=dark] .colab-df-convert {\n",
              "      background-color: #3B4455;\n",
              "      fill: #D2E3FC;\n",
              "    }\n",
              "\n",
              "    [theme=dark] .colab-df-convert:hover {\n",
              "      background-color: #434B5C;\n",
              "      box-shadow: 0px 1px 3px 1px rgba(0, 0, 0, 0.15);\n",
              "      filter: drop-shadow(0px 1px 2px rgba(0, 0, 0, 0.3));\n",
              "      fill: #FFFFFF;\n",
              "    }\n",
              "  </style>\n",
              "\n",
              "      <script>\n",
              "        const buttonEl =\n",
              "          document.querySelector('#df-c60067f2-21c0-4330-aee2-ad1df9a1d7b4 button.colab-df-convert');\n",
              "        buttonEl.style.display =\n",
              "          google.colab.kernel.accessAllowed ? 'block' : 'none';\n",
              "\n",
              "        async function convertToInteractive(key) {\n",
              "          const element = document.querySelector('#df-c60067f2-21c0-4330-aee2-ad1df9a1d7b4');\n",
              "          const dataTable =\n",
              "            await google.colab.kernel.invokeFunction('convertToInteractive',\n",
              "                                                     [key], {});\n",
              "          if (!dataTable) return;\n",
              "\n",
              "          const docLinkHtml = 'Like what you see? Visit the ' +\n",
              "            '<a target=\"_blank\" href=https://colab.research.google.com/notebooks/data_table.ipynb>data table notebook</a>'\n",
              "            + ' to learn more about interactive tables.';\n",
              "          element.innerHTML = '';\n",
              "          dataTable['output_type'] = 'display_data';\n",
              "          await google.colab.output.renderOutput(dataTable, element);\n",
              "          const docLink = document.createElement('div');\n",
              "          docLink.innerHTML = docLinkHtml;\n",
              "          element.appendChild(docLink);\n",
              "        }\n",
              "      </script>\n",
              "    </div>\n",
              "  </div>\n",
              "  "
            ]
          },
          "metadata": {},
          "execution_count": 137
        }
      ]
    },
    {
      "cell_type": "code",
      "source": [
        "data.info()"
      ],
      "metadata": {
        "colab": {
          "base_uri": "https://localhost:8080/"
        },
        "id": "XxU7BrqncoM-",
        "outputId": "1f1e0c3d-af21-4484-bc9c-f4dc3cb04a40"
      },
      "execution_count": 138,
      "outputs": [
        {
          "output_type": "stream",
          "name": "stdout",
          "text": [
            "<class 'pandas.core.frame.DataFrame'>\n",
            "RangeIndex: 35064 entries, 0 to 35063\n",
            "Data columns (total 18 columns):\n",
            " #   Column   Non-Null Count  Dtype  \n",
            "---  ------   --------------  -----  \n",
            " 0   No       35064 non-null  int64  \n",
            " 1   year     35064 non-null  int64  \n",
            " 2   month    35064 non-null  int64  \n",
            " 3   day      35064 non-null  int64  \n",
            " 4   hour     35064 non-null  int64  \n",
            " 5   PM2.5    34314 non-null  float64\n",
            " 6   PM10     34511 non-null  float64\n",
            " 7   SO2      34401 non-null  float64\n",
            " 8   NO2      33463 non-null  float64\n",
            " 9   CO       31867 non-null  float64\n",
            " 10  O3       34400 non-null  float64\n",
            " 11  TEMP     35044 non-null  float64\n",
            " 12  PRES     35044 non-null  float64\n",
            " 13  DEWP     35044 non-null  float64\n",
            " 14  RAIN     35044 non-null  float64\n",
            " 15  wd       34986 non-null  object \n",
            " 16  WSPM     35050 non-null  float64\n",
            " 17  station  35064 non-null  object \n",
            "dtypes: float64(11), int64(5), object(2)\n",
            "memory usage: 4.8+ MB\n"
          ]
        }
      ]
    },
    {
      "cell_type": "code",
      "source": [
        "data.describe()"
      ],
      "metadata": {
        "colab": {
          "base_uri": "https://localhost:8080/",
          "height": 364
        },
        "id": "XZN4rKAliI8n",
        "outputId": "15433b4f-ce2e-4031-db1b-783b9bff04af"
      },
      "execution_count": 139,
      "outputs": [
        {
          "output_type": "execute_result",
          "data": {
            "text/plain": [
              "                 No          year         month           day          hour  \\\n",
              "count  35064.000000  35064.000000  35064.000000  35064.000000  35064.000000   \n",
              "mean   17532.500000   2014.662560      6.522930     15.729637     11.500000   \n",
              "std    10122.249256      1.177213      3.448752      8.800218      6.922285   \n",
              "min        1.000000   2013.000000      1.000000      1.000000      0.000000   \n",
              "25%     8766.750000   2014.000000      4.000000      8.000000      5.750000   \n",
              "50%    17532.500000   2015.000000      7.000000     16.000000     11.500000   \n",
              "75%    26298.250000   2016.000000     10.000000     23.000000     17.250000   \n",
              "max    35064.000000   2017.000000     12.000000     31.000000     23.000000   \n",
              "\n",
              "              PM2.5          PM10           SO2           NO2            CO  \\\n",
              "count  34314.000000  34511.000000  34401.000000  33463.000000  31867.000000   \n",
              "mean      86.194297    110.336742     18.531107     53.699443   1330.069131   \n",
              "std       86.575127     98.219860     22.905655     33.959230   1191.305887   \n",
              "min        3.000000      2.000000      0.285600      2.000000    100.000000   \n",
              "25%       22.000000     38.000000      4.000000     27.000000    600.000000   \n",
              "50%       61.000000     86.000000     10.000000     47.000000   1000.000000   \n",
              "75%      119.000000    151.000000     24.000000     73.000000   1700.000000   \n",
              "max      737.000000    955.000000    300.000000    258.000000  10000.000000   \n",
              "\n",
              "                 O3          TEMP          PRES          DEWP          RAIN  \\\n",
              "count  34400.000000  35044.000000  35044.000000  35044.000000  35044.000000   \n",
              "mean      57.210637     13.671490   1012.547419      2.447535      0.064020   \n",
              "std       58.033275     11.458418     10.266059     13.810696      0.786282   \n",
              "min        0.642600    -16.800000    987.100000    -35.300000      0.000000   \n",
              "25%       12.000000      3.100000   1004.000000     -8.800000      0.000000   \n",
              "50%       44.125200     14.600000   1012.200000      3.000000      0.000000   \n",
              "75%       81.000000     23.500000   1020.900000     15.000000      0.000000   \n",
              "max     1071.000000     41.100000   1042.000000     28.800000     46.400000   \n",
              "\n",
              "               WSPM  \n",
              "count  35050.000000  \n",
              "mean       1.860785  \n",
              "std        1.280368  \n",
              "min        0.000000  \n",
              "25%        1.000000  \n",
              "50%        1.500000  \n",
              "75%        2.400000  \n",
              "max       10.500000  "
            ],
            "text/html": [
              "\n",
              "  <div id=\"df-a45ba71f-87f3-4ccf-ab4c-6c4cd2672e50\">\n",
              "    <div class=\"colab-df-container\">\n",
              "      <div>\n",
              "<style scoped>\n",
              "    .dataframe tbody tr th:only-of-type {\n",
              "        vertical-align: middle;\n",
              "    }\n",
              "\n",
              "    .dataframe tbody tr th {\n",
              "        vertical-align: top;\n",
              "    }\n",
              "\n",
              "    .dataframe thead th {\n",
              "        text-align: right;\n",
              "    }\n",
              "</style>\n",
              "<table border=\"1\" class=\"dataframe\">\n",
              "  <thead>\n",
              "    <tr style=\"text-align: right;\">\n",
              "      <th></th>\n",
              "      <th>No</th>\n",
              "      <th>year</th>\n",
              "      <th>month</th>\n",
              "      <th>day</th>\n",
              "      <th>hour</th>\n",
              "      <th>PM2.5</th>\n",
              "      <th>PM10</th>\n",
              "      <th>SO2</th>\n",
              "      <th>NO2</th>\n",
              "      <th>CO</th>\n",
              "      <th>O3</th>\n",
              "      <th>TEMP</th>\n",
              "      <th>PRES</th>\n",
              "      <th>DEWP</th>\n",
              "      <th>RAIN</th>\n",
              "      <th>WSPM</th>\n",
              "    </tr>\n",
              "  </thead>\n",
              "  <tbody>\n",
              "    <tr>\n",
              "      <th>count</th>\n",
              "      <td>35064.000000</td>\n",
              "      <td>35064.000000</td>\n",
              "      <td>35064.000000</td>\n",
              "      <td>35064.000000</td>\n",
              "      <td>35064.000000</td>\n",
              "      <td>34314.000000</td>\n",
              "      <td>34511.000000</td>\n",
              "      <td>34401.000000</td>\n",
              "      <td>33463.000000</td>\n",
              "      <td>31867.000000</td>\n",
              "      <td>34400.000000</td>\n",
              "      <td>35044.000000</td>\n",
              "      <td>35044.000000</td>\n",
              "      <td>35044.000000</td>\n",
              "      <td>35044.000000</td>\n",
              "      <td>35050.000000</td>\n",
              "    </tr>\n",
              "    <tr>\n",
              "      <th>mean</th>\n",
              "      <td>17532.500000</td>\n",
              "      <td>2014.662560</td>\n",
              "      <td>6.522930</td>\n",
              "      <td>15.729637</td>\n",
              "      <td>11.500000</td>\n",
              "      <td>86.194297</td>\n",
              "      <td>110.336742</td>\n",
              "      <td>18.531107</td>\n",
              "      <td>53.699443</td>\n",
              "      <td>1330.069131</td>\n",
              "      <td>57.210637</td>\n",
              "      <td>13.671490</td>\n",
              "      <td>1012.547419</td>\n",
              "      <td>2.447535</td>\n",
              "      <td>0.064020</td>\n",
              "      <td>1.860785</td>\n",
              "    </tr>\n",
              "    <tr>\n",
              "      <th>std</th>\n",
              "      <td>10122.249256</td>\n",
              "      <td>1.177213</td>\n",
              "      <td>3.448752</td>\n",
              "      <td>8.800218</td>\n",
              "      <td>6.922285</td>\n",
              "      <td>86.575127</td>\n",
              "      <td>98.219860</td>\n",
              "      <td>22.905655</td>\n",
              "      <td>33.959230</td>\n",
              "      <td>1191.305887</td>\n",
              "      <td>58.033275</td>\n",
              "      <td>11.458418</td>\n",
              "      <td>10.266059</td>\n",
              "      <td>13.810696</td>\n",
              "      <td>0.786282</td>\n",
              "      <td>1.280368</td>\n",
              "    </tr>\n",
              "    <tr>\n",
              "      <th>min</th>\n",
              "      <td>1.000000</td>\n",
              "      <td>2013.000000</td>\n",
              "      <td>1.000000</td>\n",
              "      <td>1.000000</td>\n",
              "      <td>0.000000</td>\n",
              "      <td>3.000000</td>\n",
              "      <td>2.000000</td>\n",
              "      <td>0.285600</td>\n",
              "      <td>2.000000</td>\n",
              "      <td>100.000000</td>\n",
              "      <td>0.642600</td>\n",
              "      <td>-16.800000</td>\n",
              "      <td>987.100000</td>\n",
              "      <td>-35.300000</td>\n",
              "      <td>0.000000</td>\n",
              "      <td>0.000000</td>\n",
              "    </tr>\n",
              "    <tr>\n",
              "      <th>25%</th>\n",
              "      <td>8766.750000</td>\n",
              "      <td>2014.000000</td>\n",
              "      <td>4.000000</td>\n",
              "      <td>8.000000</td>\n",
              "      <td>5.750000</td>\n",
              "      <td>22.000000</td>\n",
              "      <td>38.000000</td>\n",
              "      <td>4.000000</td>\n",
              "      <td>27.000000</td>\n",
              "      <td>600.000000</td>\n",
              "      <td>12.000000</td>\n",
              "      <td>3.100000</td>\n",
              "      <td>1004.000000</td>\n",
              "      <td>-8.800000</td>\n",
              "      <td>0.000000</td>\n",
              "      <td>1.000000</td>\n",
              "    </tr>\n",
              "    <tr>\n",
              "      <th>50%</th>\n",
              "      <td>17532.500000</td>\n",
              "      <td>2015.000000</td>\n",
              "      <td>7.000000</td>\n",
              "      <td>16.000000</td>\n",
              "      <td>11.500000</td>\n",
              "      <td>61.000000</td>\n",
              "      <td>86.000000</td>\n",
              "      <td>10.000000</td>\n",
              "      <td>47.000000</td>\n",
              "      <td>1000.000000</td>\n",
              "      <td>44.125200</td>\n",
              "      <td>14.600000</td>\n",
              "      <td>1012.200000</td>\n",
              "      <td>3.000000</td>\n",
              "      <td>0.000000</td>\n",
              "      <td>1.500000</td>\n",
              "    </tr>\n",
              "    <tr>\n",
              "      <th>75%</th>\n",
              "      <td>26298.250000</td>\n",
              "      <td>2016.000000</td>\n",
              "      <td>10.000000</td>\n",
              "      <td>23.000000</td>\n",
              "      <td>17.250000</td>\n",
              "      <td>119.000000</td>\n",
              "      <td>151.000000</td>\n",
              "      <td>24.000000</td>\n",
              "      <td>73.000000</td>\n",
              "      <td>1700.000000</td>\n",
              "      <td>81.000000</td>\n",
              "      <td>23.500000</td>\n",
              "      <td>1020.900000</td>\n",
              "      <td>15.000000</td>\n",
              "      <td>0.000000</td>\n",
              "      <td>2.400000</td>\n",
              "    </tr>\n",
              "    <tr>\n",
              "      <th>max</th>\n",
              "      <td>35064.000000</td>\n",
              "      <td>2017.000000</td>\n",
              "      <td>12.000000</td>\n",
              "      <td>31.000000</td>\n",
              "      <td>23.000000</td>\n",
              "      <td>737.000000</td>\n",
              "      <td>955.000000</td>\n",
              "      <td>300.000000</td>\n",
              "      <td>258.000000</td>\n",
              "      <td>10000.000000</td>\n",
              "      <td>1071.000000</td>\n",
              "      <td>41.100000</td>\n",
              "      <td>1042.000000</td>\n",
              "      <td>28.800000</td>\n",
              "      <td>46.400000</td>\n",
              "      <td>10.500000</td>\n",
              "    </tr>\n",
              "  </tbody>\n",
              "</table>\n",
              "</div>\n",
              "      <button class=\"colab-df-convert\" onclick=\"convertToInteractive('df-a45ba71f-87f3-4ccf-ab4c-6c4cd2672e50')\"\n",
              "              title=\"Convert this dataframe to an interactive table.\"\n",
              "              style=\"display:none;\">\n",
              "        \n",
              "  <svg xmlns=\"http://www.w3.org/2000/svg\" height=\"24px\"viewBox=\"0 0 24 24\"\n",
              "       width=\"24px\">\n",
              "    <path d=\"M0 0h24v24H0V0z\" fill=\"none\"/>\n",
              "    <path d=\"M18.56 5.44l.94 2.06.94-2.06 2.06-.94-2.06-.94-.94-2.06-.94 2.06-2.06.94zm-11 1L8.5 8.5l.94-2.06 2.06-.94-2.06-.94L8.5 2.5l-.94 2.06-2.06.94zm10 10l.94 2.06.94-2.06 2.06-.94-2.06-.94-.94-2.06-.94 2.06-2.06.94z\"/><path d=\"M17.41 7.96l-1.37-1.37c-.4-.4-.92-.59-1.43-.59-.52 0-1.04.2-1.43.59L10.3 9.45l-7.72 7.72c-.78.78-.78 2.05 0 2.83L4 21.41c.39.39.9.59 1.41.59.51 0 1.02-.2 1.41-.59l7.78-7.78 2.81-2.81c.8-.78.8-2.07 0-2.86zM5.41 20L4 18.59l7.72-7.72 1.47 1.35L5.41 20z\"/>\n",
              "  </svg>\n",
              "      </button>\n",
              "      \n",
              "  <style>\n",
              "    .colab-df-container {\n",
              "      display:flex;\n",
              "      flex-wrap:wrap;\n",
              "      gap: 12px;\n",
              "    }\n",
              "\n",
              "    .colab-df-convert {\n",
              "      background-color: #E8F0FE;\n",
              "      border: none;\n",
              "      border-radius: 50%;\n",
              "      cursor: pointer;\n",
              "      display: none;\n",
              "      fill: #1967D2;\n",
              "      height: 32px;\n",
              "      padding: 0 0 0 0;\n",
              "      width: 32px;\n",
              "    }\n",
              "\n",
              "    .colab-df-convert:hover {\n",
              "      background-color: #E2EBFA;\n",
              "      box-shadow: 0px 1px 2px rgba(60, 64, 67, 0.3), 0px 1px 3px 1px rgba(60, 64, 67, 0.15);\n",
              "      fill: #174EA6;\n",
              "    }\n",
              "\n",
              "    [theme=dark] .colab-df-convert {\n",
              "      background-color: #3B4455;\n",
              "      fill: #D2E3FC;\n",
              "    }\n",
              "\n",
              "    [theme=dark] .colab-df-convert:hover {\n",
              "      background-color: #434B5C;\n",
              "      box-shadow: 0px 1px 3px 1px rgba(0, 0, 0, 0.15);\n",
              "      filter: drop-shadow(0px 1px 2px rgba(0, 0, 0, 0.3));\n",
              "      fill: #FFFFFF;\n",
              "    }\n",
              "  </style>\n",
              "\n",
              "      <script>\n",
              "        const buttonEl =\n",
              "          document.querySelector('#df-a45ba71f-87f3-4ccf-ab4c-6c4cd2672e50 button.colab-df-convert');\n",
              "        buttonEl.style.display =\n",
              "          google.colab.kernel.accessAllowed ? 'block' : 'none';\n",
              "\n",
              "        async function convertToInteractive(key) {\n",
              "          const element = document.querySelector('#df-a45ba71f-87f3-4ccf-ab4c-6c4cd2672e50');\n",
              "          const dataTable =\n",
              "            await google.colab.kernel.invokeFunction('convertToInteractive',\n",
              "                                                     [key], {});\n",
              "          if (!dataTable) return;\n",
              "\n",
              "          const docLinkHtml = 'Like what you see? Visit the ' +\n",
              "            '<a target=\"_blank\" href=https://colab.research.google.com/notebooks/data_table.ipynb>data table notebook</a>'\n",
              "            + ' to learn more about interactive tables.';\n",
              "          element.innerHTML = '';\n",
              "          dataTable['output_type'] = 'display_data';\n",
              "          await google.colab.output.renderOutput(dataTable, element);\n",
              "          const docLink = document.createElement('div');\n",
              "          docLink.innerHTML = docLinkHtml;\n",
              "          element.appendChild(docLink);\n",
              "        }\n",
              "      </script>\n",
              "    </div>\n",
              "  </div>\n",
              "  "
            ]
          },
          "metadata": {},
          "execution_count": 139
        }
      ]
    },
    {
      "cell_type": "markdown",
      "source": [
        "### Checking the missing values"
      ],
      "metadata": {
        "id": "My8Ir3eJdI3Y"
      }
    },
    {
      "cell_type": "code",
      "source": [
        "data.isnull().sum()"
      ],
      "metadata": {
        "colab": {
          "base_uri": "https://localhost:8080/"
        },
        "id": "bVgEz_-GcqUW",
        "outputId": "4335eaf4-b692-478d-9b76-6947cc7051bf"
      },
      "execution_count": 140,
      "outputs": [
        {
          "output_type": "execute_result",
          "data": {
            "text/plain": [
              "No            0\n",
              "year          0\n",
              "month         0\n",
              "day           0\n",
              "hour          0\n",
              "PM2.5       750\n",
              "PM10        553\n",
              "SO2         663\n",
              "NO2        1601\n",
              "CO         3197\n",
              "O3          664\n",
              "TEMP         20\n",
              "PRES         20\n",
              "DEWP         20\n",
              "RAIN         20\n",
              "wd           78\n",
              "WSPM         14\n",
              "station       0\n",
              "dtype: int64"
            ]
          },
          "metadata": {},
          "execution_count": 140
        }
      ]
    },
    {
      "cell_type": "markdown",
      "source": [
        "### Distribution Plots"
      ],
      "metadata": {
        "id": "pc2aqOuQkKZ0"
      }
    },
    {
      "cell_type": "code",
      "source": [
        "sns.distplot(data['PM2.5'])"
      ],
      "metadata": {
        "colab": {
          "base_uri": "https://localhost:8080/",
          "height": 351
        },
        "id": "qGiRNYIkjwon",
        "outputId": "f106c25e-dc49-4ef7-9757-8c8c0abf658d"
      },
      "execution_count": 141,
      "outputs": [
        {
          "output_type": "stream",
          "name": "stderr",
          "text": [
            "/usr/local/lib/python3.7/dist-packages/seaborn/distributions.py:2619: FutureWarning: `distplot` is a deprecated function and will be removed in a future version. Please adapt your code to use either `displot` (a figure-level function with similar flexibility) or `histplot` (an axes-level function for histograms).\n",
            "  warnings.warn(msg, FutureWarning)\n"
          ]
        },
        {
          "output_type": "execute_result",
          "data": {
            "text/plain": [
              "<matplotlib.axes._subplots.AxesSubplot at 0x7fe7254299d0>"
            ]
          },
          "metadata": {},
          "execution_count": 141
        },
        {
          "output_type": "display_data",
          "data": {
            "text/plain": [
              "<Figure size 432x288 with 1 Axes>"
            ],
            "image/png": "[encoded data removed]"
          },
          "metadata": {
            "needs_background": "light"
          }
        }
      ]
    },
    {
      "cell_type": "code",
      "source": [
        "sns.distplot(data['PM10'])"
      ],
      "metadata": {
        "colab": {
          "base_uri": "https://localhost:8080/",
          "height": 351
        },
        "id": "1aWye6IKkhDE",
        "outputId": "cf3c4481-e4dc-417d-93b7-88386d19b854"
      },
      "execution_count": 142,
      "outputs": [
        {
          "output_type": "stream",
          "name": "stderr",
          "text": [
            "/usr/local/lib/python3.7/dist-packages/seaborn/distributions.py:2619: FutureWarning: `distplot` is a deprecated function and will be removed in a future version. Please adapt your code to use either `displot` (a figure-level function with similar flexibility) or `histplot` (an axes-level function for histograms).\n",
            "  warnings.warn(msg, FutureWarning)\n"
          ]
        },
        {
          "output_type": "execute_result",
          "data": {
            "text/plain": [
              "<matplotlib.axes._subplots.AxesSubplot at 0x7fe72554cb10>"
            ]
          },
          "metadata": {},
          "execution_count": 142
        },
        {
          "output_type": "display_data",
          "data": {
            "text/plain": [
              "<Figure size 432x288 with 1 Axes>"
            ],
            "image/png": "[encoded data removed]"
          },
          "metadata": {
            "needs_background": "light"
          }
        }
      ]
    },
    {
      "cell_type": "code",
      "source": [
        "sns.distplot(data['SO2'])"
      ],
      "metadata": {
        "colab": {
          "base_uri": "https://localhost:8080/",
          "height": 351
        },
        "id": "OaM9kUROkhRl",
        "outputId": "bb8217f1-8c8c-4d3e-ad60-0dcd19c8f027"
      },
      "execution_count": 143,
      "outputs": [
        {
          "output_type": "stream",
          "name": "stderr",
          "text": [
            "/usr/local/lib/python3.7/dist-packages/seaborn/distributions.py:2619: FutureWarning: `distplot` is a deprecated function and will be removed in a future version. Please adapt your code to use either `displot` (a figure-level function with similar flexibility) or `histplot` (an axes-level function for histograms).\n",
            "  warnings.warn(msg, FutureWarning)\n"
          ]
        },
        {
          "output_type": "execute_result",
          "data": {
            "text/plain": [
              "<matplotlib.axes._subplots.AxesSubplot at 0x7fe7251b3f50>"
            ]
          },
          "metadata": {},
          "execution_count": 143
        },
        {
          "output_type": "display_data",
          "data": {
            "text/plain": [
              "<Figure size 432x288 with 1 Axes>"
            ],
            "image/png": "[encoded data removed]"
          },
          "metadata": {
            "needs_background": "light"
          }
        }
      ]
    },
    {
      "cell_type": "code",
      "source": [
        "sns.distplot(data['NO2'])"
      ],
      "metadata": {
        "colab": {
          "base_uri": "https://localhost:8080/",
          "height": 351
        },
        "id": "6AM0tGSRkhUd",
        "outputId": "bf9c3755-744a-486c-d3ae-1ee7101a06c2"
      },
      "execution_count": 144,
      "outputs": [
        {
          "output_type": "stream",
          "name": "stderr",
          "text": [
            "/usr/local/lib/python3.7/dist-packages/seaborn/distributions.py:2619: FutureWarning: `distplot` is a deprecated function and will be removed in a future version. Please adapt your code to use either `displot` (a figure-level function with similar flexibility) or `histplot` (an axes-level function for histograms).\n",
            "  warnings.warn(msg, FutureWarning)\n"
          ]
        },
        {
          "output_type": "execute_result",
          "data": {
            "text/plain": [
              "<matplotlib.axes._subplots.AxesSubplot at 0x7fe7250982d0>"
            ]
          },
          "metadata": {},
          "execution_count": 144
        },
        {
          "output_type": "display_data",
          "data": {
            "text/plain": [
              "<Figure size 432x288 with 1 Axes>"
            ],
            "image/png": "[encoded data removed]"
          },
          "metadata": {
            "needs_background": "light"
          }
        }
      ]
    },
    {
      "cell_type": "code",
      "source": [
        "sns.distplot(data['CO'])"
      ],
      "metadata": {
        "colab": {
          "base_uri": "https://localhost:8080/",
          "height": 351
        },
        "id": "Vk_VMCyzkhWk",
        "outputId": "dc9ae7c3-3028-4f94-abf5-633bf6bb8d40"
      },
      "execution_count": 145,
      "outputs": [
        {
          "output_type": "stream",
          "name": "stderr",
          "text": [
            "/usr/local/lib/python3.7/dist-packages/seaborn/distributions.py:2619: FutureWarning: `distplot` is a deprecated function and will be removed in a future version. Please adapt your code to use either `displot` (a figure-level function with similar flexibility) or `histplot` (an axes-level function for histograms).\n",
            "  warnings.warn(msg, FutureWarning)\n"
          ]
        },
        {
          "output_type": "execute_result",
          "data": {
            "text/plain": [
              "<matplotlib.axes._subplots.AxesSubplot at 0x7fe7252648d0>"
            ]
          },
          "metadata": {},
          "execution_count": 145
        },
        {
          "output_type": "display_data",
          "data": {
            "text/plain": [
              "<Figure size 432x288 with 1 Axes>"
            ],
            "image/png": "[encoded data removed]"
          },
          "metadata": {
            "needs_background": "light"
          }
        }
      ]
    },
    {
      "cell_type": "code",
      "source": [
        "sns.distplot(data['O3'])"
      ],
      "metadata": {
        "colab": {
          "base_uri": "https://localhost:8080/",
          "height": 351
        },
        "id": "li2pTImWkhZF",
        "outputId": "6cd939e5-66ec-403f-bb1d-6912d43f58fd"
      },
      "execution_count": 146,
      "outputs": [
        {
          "output_type": "stream",
          "name": "stderr",
          "text": [
            "/usr/local/lib/python3.7/dist-packages/seaborn/distributions.py:2619: FutureWarning: `distplot` is a deprecated function and will be removed in a future version. Please adapt your code to use either `displot` (a figure-level function with similar flexibility) or `histplot` (an axes-level function for histograms).\n",
            "  warnings.warn(msg, FutureWarning)\n"
          ]
        },
        {
          "output_type": "execute_result",
          "data": {
            "text/plain": [
              "<matplotlib.axes._subplots.AxesSubplot at 0x7fe724ee7e50>"
            ]
          },
          "metadata": {},
          "execution_count": 146
        },
        {
          "output_type": "display_data",
          "data": {
            "text/plain": [
              "<Figure size 432x288 with 1 Axes>"
            ],
            "image/png": "[encoded data removed]"
          },
          "metadata": {
            "needs_background": "light"
          }
        }
      ]
    },
    {
      "cell_type": "code",
      "source": [
        "sns.distplot(data['TEMP'])"
      ],
      "metadata": {
        "colab": {
          "base_uri": "https://localhost:8080/",
          "height": 351
        },
        "id": "5nGS9BzxxqlP",
        "outputId": "e3a004d8-a467-4006-e2d5-6a8aec1818a1"
      },
      "execution_count": 147,
      "outputs": [
        {
          "output_type": "stream",
          "name": "stderr",
          "text": [
            "/usr/local/lib/python3.7/dist-packages/seaborn/distributions.py:2619: FutureWarning: `distplot` is a deprecated function and will be removed in a future version. Please adapt your code to use either `displot` (a figure-level function with similar flexibility) or `histplot` (an axes-level function for histograms).\n",
            "  warnings.warn(msg, FutureWarning)\n"
          ]
        },
        {
          "output_type": "execute_result",
          "data": {
            "text/plain": [
              "<matplotlib.axes._subplots.AxesSubplot at 0x7fe724dc2850>"
            ]
          },
          "metadata": {},
          "execution_count": 147
        },
        {
          "output_type": "display_data",
          "data": {
            "text/plain": [
              "<Figure size 432x288 with 1 Axes>"
            ],
            "image/png": "[encoded data removed]"
          },
          "metadata": {
            "needs_background": "light"
          }
        }
      ]
    },
    {
      "cell_type": "code",
      "source": [
        "sns.distplot(data['PRES'])"
      ],
      "metadata": {
        "colab": {
          "base_uri": "https://localhost:8080/",
          "height": 352
        },
        "id": "HWfH7gM7xqqn",
        "outputId": "f92b4117-19b0-4fb8-e2d8-46beeb820fd0"
      },
      "execution_count": 148,
      "outputs": [
        {
          "output_type": "stream",
          "name": "stderr",
          "text": [
            "/usr/local/lib/python3.7/dist-packages/seaborn/distributions.py:2619: FutureWarning: `distplot` is a deprecated function and will be removed in a future version. Please adapt your code to use either `displot` (a figure-level function with similar flexibility) or `histplot` (an axes-level function for histograms).\n",
            "  warnings.warn(msg, FutureWarning)\n"
          ]
        },
        {
          "output_type": "execute_result",
          "data": {
            "text/plain": [
              "<matplotlib.axes._subplots.AxesSubplot at 0x7fe724d85110>"
            ]
          },
          "metadata": {},
          "execution_count": 148
        },
        {
          "output_type": "display_data",
          "data": {
            "text/plain": [
              "<Figure size 432x288 with 1 Axes>"
            ],
            "image/png": "[encoded data removed]"
          },
          "metadata": {
            "needs_background": "light"
          }
        }
      ]
    },
    {
      "cell_type": "code",
      "source": [
        "sns.distplot(data['DEWP'])"
      ],
      "metadata": {
        "colab": {
          "base_uri": "https://localhost:8080/",
          "height": 351
        },
        "id": "YqCfD6ltxquD",
        "outputId": "e5af2979-210e-4d6b-e3d4-e9690a3658c7"
      },
      "execution_count": 149,
      "outputs": [
        {
          "output_type": "stream",
          "name": "stderr",
          "text": [
            "/usr/local/lib/python3.7/dist-packages/seaborn/distributions.py:2619: FutureWarning: `distplot` is a deprecated function and will be removed in a future version. Please adapt your code to use either `displot` (a figure-level function with similar flexibility) or `histplot` (an axes-level function for histograms).\n",
            "  warnings.warn(msg, FutureWarning)\n"
          ]
        },
        {
          "output_type": "execute_result",
          "data": {
            "text/plain": [
              "<matplotlib.axes._subplots.AxesSubplot at 0x7fe724c5fb90>"
            ]
          },
          "metadata": {},
          "execution_count": 149
        },
        {
          "output_type": "display_data",
          "data": {
            "text/plain": [
              "<Figure size 432x288 with 1 Axes>"
            ],
            "image/png": "[encoded data removed]"
          },
          "metadata": {
            "needs_background": "light"
          }
        }
      ]
    },
    {
      "cell_type": "code",
      "source": [
        "sns.distplot(data['RAIN'])"
      ],
      "metadata": {
        "colab": {
          "base_uri": "https://localhost:8080/",
          "height": 352
        },
        "id": "U13S-OT6xq7z",
        "outputId": "8c4b95ed-7186-4209-c077-27f61e742022"
      },
      "execution_count": 198,
      "outputs": [
        {
          "output_type": "stream",
          "name": "stderr",
          "text": [
            "/usr/local/lib/python3.7/dist-packages/seaborn/distributions.py:2619: FutureWarning: `distplot` is a deprecated function and will be removed in a future version. Please adapt your code to use either `displot` (a figure-level function with similar flexibility) or `histplot` (an axes-level function for histograms).\n",
            "  warnings.warn(msg, FutureWarning)\n"
          ]
        },
        {
          "output_type": "execute_result",
          "data": {
            "text/plain": [
              "<matplotlib.axes._subplots.AxesSubplot at 0x7fe7244fdcd0>"
            ]
          },
          "metadata": {},
          "execution_count": 198
        },
        {
          "output_type": "display_data",
          "data": {
            "text/plain": [
              "<Figure size 432x288 with 1 Axes>"
            ],
            "image/png": "[encoded data removed]"
          },
          "metadata": {
            "needs_background": "light"
          }
        }
      ]
    },
    {
      "cell_type": "code",
      "source": [
        "sns.distplot(data['WSPM'])"
      ],
      "metadata": {
        "colab": {
          "base_uri": "https://localhost:8080/",
          "height": 351
        },
        "id": "1wjWlaYcxq_q",
        "outputId": "98a3293a-ae3d-4566-dd18-14a3c92627c6"
      },
      "execution_count": 199,
      "outputs": [
        {
          "output_type": "stream",
          "name": "stderr",
          "text": [
            "/usr/local/lib/python3.7/dist-packages/seaborn/distributions.py:2619: FutureWarning: `distplot` is a deprecated function and will be removed in a future version. Please adapt your code to use either `displot` (a figure-level function with similar flexibility) or `histplot` (an axes-level function for histograms).\n",
            "  warnings.warn(msg, FutureWarning)\n"
          ]
        },
        {
          "output_type": "execute_result",
          "data": {
            "text/plain": [
              "<matplotlib.axes._subplots.AxesSubplot at 0x7fe7244b4350>"
            ]
          },
          "metadata": {},
          "execution_count": 199
        },
        {
          "output_type": "display_data",
          "data": {
            "text/plain": [
              "<Figure size 432x288 with 1 Axes>"
            ],
            "image/png": "[encoded data removed]"
          },
          "metadata": {
            "needs_background": "light"
          }
        }
      ]
    },
    {
      "cell_type": "markdown",
      "source": [
        "### Missing Value Imputation"
      ],
      "metadata": {
        "id": "nqmrB6Yrjx_G"
      }
    },
    {
      "cell_type": "markdown",
      "source": [
        "The Gas values were filled using median because it was a better calculation in my opinion.\n",
        "The other values were filled using mean"
      ],
      "metadata": {
        "id": "-SCRjuijxbBo"
      }
    },
    {
      "cell_type": "code",
      "source": [
        "data['PM2.5'] = data['PM2.5'].fillna(data['PM2.5'].median())\n",
        "data['PM10'] = data['PM10'].fillna(data['PM10'].median())\n",
        "data['SO2'] = data['SO2'].fillna(data['SO2'].median())\n",
        "data['NO2'] = data['NO2'].fillna(data['NO2'].median())\n",
        "data['CO'] = data['CO'].fillna(data['CO'].median())\n",
        "data['O3'] = data['O3'].fillna(data['O3'].median())"
      ],
      "metadata": {
        "id": "-Ht_WNrdjwu8"
      },
      "execution_count": 152,
      "outputs": []
    },
    {
      "cell_type": "code",
      "source": [
        "data['TEMP'] = data['TEMP'].fillna(data['TEMP'].mean())\n",
        "data['PRES'] = data['PRES'].fillna(data['PRES'].mean())\n",
        "data['DEWP'] = data['DEWP'].fillna(data['DEWP'].mean())\n",
        "data['RAIN'] = data['RAIN'].fillna(data['RAIN'].mean())\n",
        "data['WSPM'] = data['WSPM'].fillna(data['WSPM'].mean())"
      ],
      "metadata": {
        "id": "HpuHtDwEjwxc"
      },
      "execution_count": 153,
      "outputs": []
    },
    {
      "cell_type": "markdown",
      "source": [
        "### Drop Columns"
      ],
      "metadata": {
        "id": "2IKhe5Vqh58I"
      }
    },
    {
      "cell_type": "code",
      "source": [
        "data.columns"
      ],
      "metadata": {
        "colab": {
          "base_uri": "https://localhost:8080/"
        },
        "id": "AE1reITog1dP",
        "outputId": "39349456-342a-456e-f443-587560fdddcc"
      },
      "execution_count": 154,
      "outputs": [
        {
          "output_type": "execute_result",
          "data": {
            "text/plain": [
              "Index(['No', 'year', 'month', 'day', 'hour', 'PM2.5', 'PM10', 'SO2', 'NO2',\n",
              "       'CO', 'O3', 'TEMP', 'PRES', 'DEWP', 'RAIN', 'wd', 'WSPM', 'station'],\n",
              "      dtype='object')"
            ]
          },
          "metadata": {},
          "execution_count": 154
        }
      ]
    },
    {
      "cell_type": "code",
      "source": [
        "data = data.drop(['No', 'day', 'wd', 'station'], axis = 1)"
      ],
      "metadata": {
        "id": "aj4kQRAijNpt"
      },
      "execution_count": 155,
      "outputs": []
    },
    {
      "cell_type": "code",
      "source": [
        "data.info()"
      ],
      "metadata": {
        "colab": {
          "base_uri": "https://localhost:8080/"
        },
        "id": "cJ4y3ut3pO3W",
        "outputId": "f834b941-9d82-4800-cd1e-82991f36643e"
      },
      "execution_count": 156,
      "outputs": [
        {
          "output_type": "stream",
          "name": "stdout",
          "text": [
            "<class 'pandas.core.frame.DataFrame'>\n",
            "RangeIndex: 35064 entries, 0 to 35063\n",
            "Data columns (total 14 columns):\n",
            " #   Column  Non-Null Count  Dtype  \n",
            "---  ------  --------------  -----  \n",
            " 0   year    35064 non-null  int64  \n",
            " 1   month   35064 non-null  int64  \n",
            " 2   hour    35064 non-null  int64  \n",
            " 3   PM2.5   35064 non-null  float64\n",
            " 4   PM10    35064 non-null  float64\n",
            " 5   SO2     35064 non-null  float64\n",
            " 6   NO2     35064 non-null  float64\n",
            " 7   CO      35064 non-null  float64\n",
            " 8   O3      35064 non-null  float64\n",
            " 9   TEMP    35064 non-null  float64\n",
            " 10  PRES    35064 non-null  float64\n",
            " 11  DEWP    35064 non-null  float64\n",
            " 12  RAIN    35064 non-null  float64\n",
            " 13  WSPM    35064 non-null  float64\n",
            "dtypes: float64(11), int64(3)\n",
            "memory usage: 3.7 MB\n"
          ]
        }
      ]
    },
    {
      "cell_type": "code",
      "source": [
        "data.columns"
      ],
      "metadata": {
        "colab": {
          "base_uri": "https://localhost:8080/"
        },
        "id": "LmALstFwjw2C",
        "outputId": "aa7d7c82-a798-4613-8aad-a4961f5397d7"
      },
      "execution_count": 157,
      "outputs": [
        {
          "output_type": "execute_result",
          "data": {
            "text/plain": [
              "Index(['year', 'month', 'hour', 'PM2.5', 'PM10', 'SO2', 'NO2', 'CO', 'O3',\n",
              "       'TEMP', 'PRES', 'DEWP', 'RAIN', 'WSPM'],\n",
              "      dtype='object')"
            ]
          },
          "metadata": {},
          "execution_count": 157
        }
      ]
    },
    {
      "cell_type": "code",
      "source": [
        "data.isnull().sum()"
      ],
      "metadata": {
        "colab": {
          "base_uri": "https://localhost:8080/"
        },
        "id": "rYA2D-8Cpuat",
        "outputId": "f42057e0-94b2-43f5-9116-2cbb0155fc65"
      },
      "execution_count": 158,
      "outputs": [
        {
          "output_type": "execute_result",
          "data": {
            "text/plain": [
              "year     0\n",
              "month    0\n",
              "hour     0\n",
              "PM2.5    0\n",
              "PM10     0\n",
              "SO2      0\n",
              "NO2      0\n",
              "CO       0\n",
              "O3       0\n",
              "TEMP     0\n",
              "PRES     0\n",
              "DEWP     0\n",
              "RAIN     0\n",
              "WSPM     0\n",
              "dtype: int64"
            ]
          },
          "metadata": {},
          "execution_count": 158
        }
      ]
    },
    {
      "cell_type": "markdown",
      "source": [
        "### Correlation Check"
      ],
      "metadata": {
        "id": "9nsAmcanvDOB"
      }
    },
    {
      "cell_type": "code",
      "source": [
        "data.corr()"
      ],
      "metadata": {
        "colab": {
          "base_uri": "https://localhost:8080/",
          "height": 760
        },
        "id": "VZ3XyZ7ypG35",
        "outputId": "f26cd64a-a519-47b2-efd9-282c5a0f49ec"
      },
      "execution_count": 159,
      "outputs": [
        {
          "output_type": "execute_result",
          "data": {
            "text/plain": [
              "               year         month          hour     PM2.5      PM10       SO2  \\\n",
              "year   1.000000e+00 -2.020099e-01  1.164482e-15 -0.008840  0.002834 -0.192134   \n",
              "month -2.020099e-01  1.000000e+00  4.724770e-16  0.015072 -0.005982 -0.186453   \n",
              "hour   1.164482e-15  4.724770e-16  1.000000e+00 -0.002257  0.027342 -0.010488   \n",
              "PM2.5 -8.840238e-03  1.507228e-02 -2.256505e-03  1.000000  0.887443  0.543344   \n",
              "PM10   2.833621e-03 -5.981761e-03  2.734200e-02  0.887443  1.000000  0.491476   \n",
              "SO2   -1.921342e-01 -1.864534e-01 -1.048776e-02  0.543344  0.491476  1.000000   \n",
              "NO2   -5.914957e-02  1.122643e-01 -7.279700e-02  0.667180  0.641924  0.446630   \n",
              "CO     1.774761e-02  5.796854e-02 -3.539705e-02  0.764205  0.693987  0.551584   \n",
              "O3    -6.490376e-02 -1.120165e-01  2.839998e-01 -0.136436 -0.125781 -0.155468   \n",
              "TEMP  -1.487664e-01  1.325033e-01  1.420737e-01 -0.139960 -0.134249 -0.338104   \n",
              "PRES   1.735828e-01 -2.116064e-02 -3.906968e-02 -0.003525 -0.014388  0.206542   \n",
              "DEWP  -1.517098e-01  2.652505e-01 -1.990379e-02  0.124789  0.059812 -0.229382   \n",
              "RAIN   4.368375e-03  1.654221e-02  5.097794e-03 -0.019564 -0.031447 -0.045371   \n",
              "WSPM   2.764938e-02 -1.268710e-01  1.565756e-01 -0.298793 -0.197430 -0.166866   \n",
              "\n",
              "            NO2        CO        O3      TEMP      PRES      DEWP      RAIN  \\\n",
              "year  -0.059150  0.017748 -0.064904 -0.148766  0.173583 -0.151710  0.004368   \n",
              "month  0.112264  0.057969 -0.112016  0.132503 -0.021161  0.265251  0.016542   \n",
              "hour  -0.072797 -0.035397  0.284000  0.142074 -0.039070 -0.019904  0.005098   \n",
              "PM2.5  0.667180  0.764205 -0.136436 -0.139960 -0.003525  0.124789 -0.019564   \n",
              "PM10   0.641924  0.693987 -0.125781 -0.134249 -0.014388  0.059812 -0.031447   \n",
              "SO2    0.446630  0.551584 -0.155468 -0.338104  0.206542 -0.229382 -0.045371   \n",
              "NO2    1.000000  0.665454 -0.457271 -0.244183  0.083115  0.056196 -0.043134   \n",
              "CO     0.665454  1.000000 -0.279836 -0.296556  0.139206 -0.011928 -0.013616   \n",
              "O3    -0.457271 -0.279836  1.000000  0.574130 -0.439908  0.300581  0.015986   \n",
              "TEMP  -0.244183 -0.296556  0.574130  1.000000 -0.837480  0.819070  0.038660   \n",
              "PRES   0.083115  0.139206 -0.439908 -0.837480  1.000000 -0.770305 -0.065779   \n",
              "DEWP   0.056196 -0.011928  0.300581  0.819070 -0.770305  1.000000  0.089356   \n",
              "RAIN  -0.043134 -0.013616  0.015986  0.038660 -0.065779  0.089356  1.000000   \n",
              "WSPM  -0.486013 -0.326632  0.288379  0.048829  0.038493 -0.278895  0.025547   \n",
              "\n",
              "           WSPM  \n",
              "year   0.027649  \n",
              "month -0.126871  \n",
              "hour   0.156576  \n",
              "PM2.5 -0.298793  \n",
              "PM10  -0.197430  \n",
              "SO2   -0.166866  \n",
              "NO2   -0.486013  \n",
              "CO    -0.326632  \n",
              "O3     0.288379  \n",
              "TEMP   0.048829  \n",
              "PRES   0.038493  \n",
              "DEWP  -0.278895  \n",
              "RAIN   0.025547  \n",
              "WSPM   1.000000  "
            ],
            "text/html": [
              "\n",
              "  <div id=\"df-10cbc02f-b3a3-4fe5-ba05-06096ef26af8\">\n",
              "    <div class=\"colab-df-container\">\n",
              "      <div>\n",
              "<style scoped>\n",
              "    .dataframe tbody tr th:only-of-type {\n",
              "        vertical-align: middle;\n",
              "    }\n",
              "\n",
              "    .dataframe tbody tr th {\n",
              "        vertical-align: top;\n",
              "    }\n",
              "\n",
              "    .dataframe thead th {\n",
              "        text-align: right;\n",
              "    }\n",
              "</style>\n",
              "<table border=\"1\" class=\"dataframe\">\n",
              "  <thead>\n",
              "    <tr style=\"text-align: right;\">\n",
              "      <th></th>\n",
              "      <th>year</th>\n",
              "      <th>month</th>\n",
              "      <th>hour</th>\n",
              "      <th>PM2.5</th>\n",
              "      <th>PM10</th>\n",
              "      <th>SO2</th>\n",
              "      <th>NO2</th>\n",
              "      <th>CO</th>\n",
              "      <th>O3</th>\n",
              "      <th>TEMP</th>\n",
              "      <th>PRES</th>\n",
              "      <th>DEWP</th>\n",
              "      <th>RAIN</th>\n",
              "      <th>WSPM</th>\n",
              "    </tr>\n",
              "  </thead>\n",
              "  <tbody>\n",
              "    <tr>\n",
              "      <th>year</th>\n",
              "      <td>1.000000e+00</td>\n",
              "      <td>-2.020099e-01</td>\n",
              "      <td>1.164482e-15</td>\n",
              "      <td>-0.008840</td>\n",
              "      <td>0.002834</td>\n",
              "      <td>-0.192134</td>\n",
              "      <td>-0.059150</td>\n",
              "      <td>0.017748</td>\n",
              "      <td>-0.064904</td>\n",
              "      <td>-0.148766</td>\n",
              "      <td>0.173583</td>\n",
              "      <td>-0.151710</td>\n",
              "      <td>0.004368</td>\n",
              "      <td>0.027649</td>\n",
              "    </tr>\n",
              "    <tr>\n",
              "      <th>month</th>\n",
              "      <td>-2.020099e-01</td>\n",
              "      <td>1.000000e+00</td>\n",
              "      <td>4.724770e-16</td>\n",
              "      <td>0.015072</td>\n",
              "      <td>-0.005982</td>\n",
              "      <td>-0.186453</td>\n",
              "      <td>0.112264</td>\n",
              "      <td>0.057969</td>\n",
              "      <td>-0.112016</td>\n",
              "      <td>0.132503</td>\n",
              "      <td>-0.021161</td>\n",
              "      <td>0.265251</td>\n",
              "      <td>0.016542</td>\n",
              "      <td>-0.126871</td>\n",
              "    </tr>\n",
              "    <tr>\n",
              "      <th>hour</th>\n",
              "      <td>1.164482e-15</td>\n",
              "      <td>4.724770e-16</td>\n",
              "      <td>1.000000e+00</td>\n",
              "      <td>-0.002257</td>\n",
              "      <td>0.027342</td>\n",
              "      <td>-0.010488</td>\n",
              "      <td>-0.072797</td>\n",
              "      <td>-0.035397</td>\n",
              "      <td>0.284000</td>\n",
              "      <td>0.142074</td>\n",
              "      <td>-0.039070</td>\n",
              "      <td>-0.019904</td>\n",
              "      <td>0.005098</td>\n",
              "      <td>0.156576</td>\n",
              "    </tr>\n",
              "    <tr>\n",
              "      <th>PM2.5</th>\n",
              "      <td>-8.840238e-03</td>\n",
              "      <td>1.507228e-02</td>\n",
              "      <td>-2.256505e-03</td>\n",
              "      <td>1.000000</td>\n",
              "      <td>0.887443</td>\n",
              "      <td>0.543344</td>\n",
              "      <td>0.667180</td>\n",
              "      <td>0.764205</td>\n",
              "      <td>-0.136436</td>\n",
              "      <td>-0.139960</td>\n",
              "      <td>-0.003525</td>\n",
              "      <td>0.124789</td>\n",
              "      <td>-0.019564</td>\n",
              "      <td>-0.298793</td>\n",
              "    </tr>\n",
              "    <tr>\n",
              "      <th>PM10</th>\n",
              "      <td>2.833621e-03</td>\n",
              "      <td>-5.981761e-03</td>\n",
              "      <td>2.734200e-02</td>\n",
              "      <td>0.887443</td>\n",
              "      <td>1.000000</td>\n",
              "      <td>0.491476</td>\n",
              "      <td>0.641924</td>\n",
              "      <td>0.693987</td>\n",
              "      <td>-0.125781</td>\n",
              "      <td>-0.134249</td>\n",
              "      <td>-0.014388</td>\n",
              "      <td>0.059812</td>\n",
              "      <td>-0.031447</td>\n",
              "      <td>-0.197430</td>\n",
              "    </tr>\n",
              "    <tr>\n",
              "      <th>SO2</th>\n",
              "      <td>-1.921342e-01</td>\n",
              "      <td>-1.864534e-01</td>\n",
              "      <td>-1.048776e-02</td>\n",
              "      <td>0.543344</td>\n",
              "      <td>0.491476</td>\n",
              "      <td>1.000000</td>\n",
              "      <td>0.446630</td>\n",
              "      <td>0.551584</td>\n",
              "      <td>-0.155468</td>\n",
              "      <td>-0.338104</td>\n",
              "      <td>0.206542</td>\n",
              "      <td>-0.229382</td>\n",
              "      <td>-0.045371</td>\n",
              "      <td>-0.166866</td>\n",
              "    </tr>\n",
              "    <tr>\n",
              "      <th>NO2</th>\n",
              "      <td>-5.914957e-02</td>\n",
              "      <td>1.122643e-01</td>\n",
              "      <td>-7.279700e-02</td>\n",
              "      <td>0.667180</td>\n",
              "      <td>0.641924</td>\n",
              "      <td>0.446630</td>\n",
              "      <td>1.000000</td>\n",
              "      <td>0.665454</td>\n",
              "      <td>-0.457271</td>\n",
              "      <td>-0.244183</td>\n",
              "      <td>0.083115</td>\n",
              "      <td>0.056196</td>\n",
              "      <td>-0.043134</td>\n",
              "      <td>-0.486013</td>\n",
              "    </tr>\n",
              "    <tr>\n",
              "      <th>CO</th>\n",
              "      <td>1.774761e-02</td>\n",
              "      <td>5.796854e-02</td>\n",
              "      <td>-3.539705e-02</td>\n",
              "      <td>0.764205</td>\n",
              "      <td>0.693987</td>\n",
              "      <td>0.551584</td>\n",
              "      <td>0.665454</td>\n",
              "      <td>1.000000</td>\n",
              "      <td>-0.279836</td>\n",
              "      <td>-0.296556</td>\n",
              "      <td>0.139206</td>\n",
              "      <td>-0.011928</td>\n",
              "      <td>-0.013616</td>\n",
              "      <td>-0.326632</td>\n",
              "    </tr>\n",
              "    <tr>\n",
              "      <th>O3</th>\n",
              "      <td>-6.490376e-02</td>\n",
              "      <td>-1.120165e-01</td>\n",
              "      <td>2.839998e-01</td>\n",
              "      <td>-0.136436</td>\n",
              "      <td>-0.125781</td>\n",
              "      <td>-0.155468</td>\n",
              "      <td>-0.457271</td>\n",
              "      <td>-0.279836</td>\n",
              "      <td>1.000000</td>\n",
              "      <td>0.574130</td>\n",
              "      <td>-0.439908</td>\n",
              "      <td>0.300581</td>\n",
              "      <td>0.015986</td>\n",
              "      <td>0.288379</td>\n",
              "    </tr>\n",
              "    <tr>\n",
              "      <th>TEMP</th>\n",
              "      <td>-1.487664e-01</td>\n",
              "      <td>1.325033e-01</td>\n",
              "      <td>1.420737e-01</td>\n",
              "      <td>-0.139960</td>\n",
              "      <td>-0.134249</td>\n",
              "      <td>-0.338104</td>\n",
              "      <td>-0.244183</td>\n",
              "      <td>-0.296556</td>\n",
              "      <td>0.574130</td>\n",
              "      <td>1.000000</td>\n",
              "      <td>-0.837480</td>\n",
              "      <td>0.819070</td>\n",
              "      <td>0.038660</td>\n",
              "      <td>0.048829</td>\n",
              "    </tr>\n",
              "    <tr>\n",
              "      <th>PRES</th>\n",
              "      <td>1.735828e-01</td>\n",
              "      <td>-2.116064e-02</td>\n",
              "      <td>-3.906968e-02</td>\n",
              "      <td>-0.003525</td>\n",
              "      <td>-0.014388</td>\n",
              "      <td>0.206542</td>\n",
              "      <td>0.083115</td>\n",
              "      <td>0.139206</td>\n",
              "      <td>-0.439908</td>\n",
              "      <td>-0.837480</td>\n",
              "      <td>1.000000</td>\n",
              "      <td>-0.770305</td>\n",
              "      <td>-0.065779</td>\n",
              "      <td>0.038493</td>\n",
              "    </tr>\n",
              "    <tr>\n",
              "      <th>DEWP</th>\n",
              "      <td>-1.517098e-01</td>\n",
              "      <td>2.652505e-01</td>\n",
              "      <td>-1.990379e-02</td>\n",
              "      <td>0.124789</td>\n",
              "      <td>0.059812</td>\n",
              "      <td>-0.229382</td>\n",
              "      <td>0.056196</td>\n",
              "      <td>-0.011928</td>\n",
              "      <td>0.300581</td>\n",
              "      <td>0.819070</td>\n",
              "      <td>-0.770305</td>\n",
              "      <td>1.000000</td>\n",
              "      <td>0.089356</td>\n",
              "      <td>-0.278895</td>\n",
              "    </tr>\n",
              "    <tr>\n",
              "      <th>RAIN</th>\n",
              "      <td>4.368375e-03</td>\n",
              "      <td>1.654221e-02</td>\n",
              "      <td>5.097794e-03</td>\n",
              "      <td>-0.019564</td>\n",
              "      <td>-0.031447</td>\n",
              "      <td>-0.045371</td>\n",
              "      <td>-0.043134</td>\n",
              "      <td>-0.013616</td>\n",
              "      <td>0.015986</td>\n",
              "      <td>0.038660</td>\n",
              "      <td>-0.065779</td>\n",
              "      <td>0.089356</td>\n",
              "      <td>1.000000</td>\n",
              "      <td>0.025547</td>\n",
              "    </tr>\n",
              "    <tr>\n",
              "      <th>WSPM</th>\n",
              "      <td>2.764938e-02</td>\n",
              "      <td>-1.268710e-01</td>\n",
              "      <td>1.565756e-01</td>\n",
              "      <td>-0.298793</td>\n",
              "      <td>-0.197430</td>\n",
              "      <td>-0.166866</td>\n",
              "      <td>-0.486013</td>\n",
              "      <td>-0.326632</td>\n",
              "      <td>0.288379</td>\n",
              "      <td>0.048829</td>\n",
              "      <td>0.038493</td>\n",
              "      <td>-0.278895</td>\n",
              "      <td>0.025547</td>\n",
              "      <td>1.000000</td>\n",
              "    </tr>\n",
              "  </tbody>\n",
              "</table>\n",
              "</div>\n",
              "      <button class=\"colab-df-convert\" onclick=\"convertToInteractive('df-10cbc02f-b3a3-4fe5-ba05-06096ef26af8')\"\n",
              "              title=\"Convert this dataframe to an interactive table.\"\n",
              "              style=\"display:none;\">\n",
              "        \n",
              "  <svg xmlns=\"http://www.w3.org/2000/svg\" height=\"24px\"viewBox=\"0 0 24 24\"\n",
              "       width=\"24px\">\n",
              "    <path d=\"M0 0h24v24H0V0z\" fill=\"none\"/>\n",
              "    <path d=\"M18.56 5.44l.94 2.06.94-2.06 2.06-.94-2.06-.94-.94-2.06-.94 2.06-2.06.94zm-11 1L8.5 8.5l.94-2.06 2.06-.94-2.06-.94L8.5 2.5l-.94 2.06-2.06.94zm10 10l.94 2.06.94-2.06 2.06-.94-2.06-.94-.94-2.06-.94 2.06-2.06.94z\"/><path d=\"M17.41 7.96l-1.37-1.37c-.4-.4-.92-.59-1.43-.59-.52 0-1.04.2-1.43.59L10.3 9.45l-7.72 7.72c-.78.78-.78 2.05 0 2.83L4 21.41c.39.39.9.59 1.41.59.51 0 1.02-.2 1.41-.59l7.78-7.78 2.81-2.81c.8-.78.8-2.07 0-2.86zM5.41 20L4 18.59l7.72-7.72 1.47 1.35L5.41 20z\"/>\n",
              "  </svg>\n",
              "      </button>\n",
              "      \n",
              "  <style>\n",
              "    .colab-df-container {\n",
              "      display:flex;\n",
              "      flex-wrap:wrap;\n",
              "      gap: 12px;\n",
              "    }\n",
              "\n",
              "    .colab-df-convert {\n",
              "      background-color: #E8F0FE;\n",
              "      border: none;\n",
              "      border-radius: 50%;\n",
              "      cursor: pointer;\n",
              "      display: none;\n",
              "      fill: #1967D2;\n",
              "      height: 32px;\n",
              "      padding: 0 0 0 0;\n",
              "      width: 32px;\n",
              "    }\n",
              "\n",
              "    .colab-df-convert:hover {\n",
              "      background-color: #E2EBFA;\n",
              "      box-shadow: 0px 1px 2px rgba(60, 64, 67, 0.3), 0px 1px 3px 1px rgba(60, 64, 67, 0.15);\n",
              "      fill: #174EA6;\n",
              "    }\n",
              "\n",
              "    [theme=dark] .colab-df-convert {\n",
              "      background-color: #3B4455;\n",
              "      fill: #D2E3FC;\n",
              "    }\n",
              "\n",
              "    [theme=dark] .colab-df-convert:hover {\n",
              "      background-color: #434B5C;\n",
              "      box-shadow: 0px 1px 3px 1px rgba(0, 0, 0, 0.15);\n",
              "      filter: drop-shadow(0px 1px 2px rgba(0, 0, 0, 0.3));\n",
              "      fill: #FFFFFF;\n",
              "    }\n",
              "  </style>\n",
              "\n",
              "      <script>\n",
              "        const buttonEl =\n",
              "          document.querySelector('#df-10cbc02f-b3a3-4fe5-ba05-06096ef26af8 button.colab-df-convert');\n",
              "        buttonEl.style.display =\n",
              "          google.colab.kernel.accessAllowed ? 'block' : 'none';\n",
              "\n",
              "        async function convertToInteractive(key) {\n",
              "          const element = document.querySelector('#df-10cbc02f-b3a3-4fe5-ba05-06096ef26af8');\n",
              "          const dataTable =\n",
              "            await google.colab.kernel.invokeFunction('convertToInteractive',\n",
              "                                                     [key], {});\n",
              "          if (!dataTable) return;\n",
              "\n",
              "          const docLinkHtml = 'Like what you see? Visit the ' +\n",
              "            '<a target=\"_blank\" href=https://colab.research.google.com/notebooks/data_table.ipynb>data table notebook</a>'\n",
              "            + ' to learn more about interactive tables.';\n",
              "          element.innerHTML = '';\n",
              "          dataTable['output_type'] = 'display_data';\n",
              "          await google.colab.output.renderOutput(dataTable, element);\n",
              "          const docLink = document.createElement('div');\n",
              "          docLink.innerHTML = docLinkHtml;\n",
              "          element.appendChild(docLink);\n",
              "        }\n",
              "      </script>\n",
              "    </div>\n",
              "  </div>\n",
              "  "
            ]
          },
          "metadata": {},
          "execution_count": 159
        }
      ]
    },
    {
      "cell_type": "markdown",
      "source": [
        "### Selecting dependent and independent variables"
      ],
      "metadata": {
        "id": "erTActQ_e6XE"
      }
    },
    {
      "cell_type": "code",
      "source": [
        "X = data[['PM10']]\n",
        "y = data[['PM2.5']]"
      ],
      "metadata": {
        "id": "DyGdFAZfvHMP"
      },
      "execution_count": 160,
      "outputs": []
    },
    {
      "cell_type": "code",
      "source": [
        "X.head()"
      ],
      "metadata": {
        "colab": {
          "base_uri": "https://localhost:8080/",
          "height": 206
        },
        "id": "9iUOgqfnfY10",
        "outputId": "cec70d62-aab9-4cce-dcf9-1c94015bacba"
      },
      "execution_count": 161,
      "outputs": [
        {
          "output_type": "execute_result",
          "data": {
            "text/plain": [
              "   PM10\n",
              "0   9.0\n",
              "1   4.0\n",
              "2   7.0\n",
              "3   3.0\n",
              "4   3.0"
            ],
            "text/html": [
              "\n",
              "  <div id=\"df-bf88ccbf-e3b8-4010-893e-d88dfb0633c1\">\n",
              "    <div class=\"colab-df-container\">\n",
              "      <div>\n",
              "<style scoped>\n",
              "    .dataframe tbody tr th:only-of-type {\n",
              "        vertical-align: middle;\n",
              "    }\n",
              "\n",
              "    .dataframe tbody tr th {\n",
              "        vertical-align: top;\n",
              "    }\n",
              "\n",
              "    .dataframe thead th {\n",
              "        text-align: right;\n",
              "    }\n",
              "</style>\n",
              "<table border=\"1\" class=\"dataframe\">\n",
              "  <thead>\n",
              "    <tr style=\"text-align: right;\">\n",
              "      <th></th>\n",
              "      <th>PM10</th>\n",
              "    </tr>\n",
              "  </thead>\n",
              "  <tbody>\n",
              "    <tr>\n",
              "      <th>0</th>\n",
              "      <td>9.0</td>\n",
              "    </tr>\n",
              "    <tr>\n",
              "      <th>1</th>\n",
              "      <td>4.0</td>\n",
              "    </tr>\n",
              "    <tr>\n",
              "      <th>2</th>\n",
              "      <td>7.0</td>\n",
              "    </tr>\n",
              "    <tr>\n",
              "      <th>3</th>\n",
              "      <td>3.0</td>\n",
              "    </tr>\n",
              "    <tr>\n",
              "      <th>4</th>\n",
              "      <td>3.0</td>\n",
              "    </tr>\n",
              "  </tbody>\n",
              "</table>\n",
              "</div>\n",
              "      <button class=\"colab-df-convert\" onclick=\"convertToInteractive('df-bf88ccbf-e3b8-4010-893e-d88dfb0633c1')\"\n",
              "              title=\"Convert this dataframe to an interactive table.\"\n",
              "              style=\"display:none;\">\n",
              "        \n",
              "  <svg xmlns=\"http://www.w3.org/2000/svg\" height=\"24px\"viewBox=\"0 0 24 24\"\n",
              "       width=\"24px\">\n",
              "    <path d=\"M0 0h24v24H0V0z\" fill=\"none\"/>\n",
              "    <path d=\"M18.56 5.44l.94 2.06.94-2.06 2.06-.94-2.06-.94-.94-2.06-.94 2.06-2.06.94zm-11 1L8.5 8.5l.94-2.06 2.06-.94-2.06-.94L8.5 2.5l-.94 2.06-2.06.94zm10 10l.94 2.06.94-2.06 2.06-.94-2.06-.94-.94-2.06-.94 2.06-2.06.94z\"/><path d=\"M17.41 7.96l-1.37-1.37c-.4-.4-.92-.59-1.43-.59-.52 0-1.04.2-1.43.59L10.3 9.45l-7.72 7.72c-.78.78-.78 2.05 0 2.83L4 21.41c.39.39.9.59 1.41.59.51 0 1.02-.2 1.41-.59l7.78-7.78 2.81-2.81c.8-.78.8-2.07 0-2.86zM5.41 20L4 18.59l7.72-7.72 1.47 1.35L5.41 20z\"/>\n",
              "  </svg>\n",
              "      </button>\n",
              "      \n",
              "  <style>\n",
              "    .colab-df-container {\n",
              "      display:flex;\n",
              "      flex-wrap:wrap;\n",
              "      gap: 12px;\n",
              "    }\n",
              "\n",
              "    .colab-df-convert {\n",
              "      background-color: #E8F0FE;\n",
              "      border: none;\n",
              "      border-radius: 50%;\n",
              "      cursor: pointer;\n",
              "      display: none;\n",
              "      fill: #1967D2;\n",
              "      height: 32px;\n",
              "      padding: 0 0 0 0;\n",
              "      width: 32px;\n",
              "    }\n",
              "\n",
              "    .colab-df-convert:hover {\n",
              "      background-color: #E2EBFA;\n",
              "      box-shadow: 0px 1px 2px rgba(60, 64, 67, 0.3), 0px 1px 3px 1px rgba(60, 64, 67, 0.15);\n",
              "      fill: #174EA6;\n",
              "    }\n",
              "\n",
              "    [theme=dark] .colab-df-convert {\n",
              "      background-color: #3B4455;\n",
              "      fill: #D2E3FC;\n",
              "    }\n",
              "\n",
              "    [theme=dark] .colab-df-convert:hover {\n",
              "      background-color: #434B5C;\n",
              "      box-shadow: 0px 1px 3px 1px rgba(0, 0, 0, 0.15);\n",
              "      filter: drop-shadow(0px 1px 2px rgba(0, 0, 0, 0.3));\n",
              "      fill: #FFFFFF;\n",
              "    }\n",
              "  </style>\n",
              "\n",
              "      <script>\n",
              "        const buttonEl =\n",
              "          document.querySelector('#df-bf88ccbf-e3b8-4010-893e-d88dfb0633c1 button.colab-df-convert');\n",
              "        buttonEl.style.display =\n",
              "          google.colab.kernel.accessAllowed ? 'block' : 'none';\n",
              "\n",
              "        async function convertToInteractive(key) {\n",
              "          const element = document.querySelector('#df-bf88ccbf-e3b8-4010-893e-d88dfb0633c1');\n",
              "          const dataTable =\n",
              "            await google.colab.kernel.invokeFunction('convertToInteractive',\n",
              "                                                     [key], {});\n",
              "          if (!dataTable) return;\n",
              "\n",
              "          const docLinkHtml = 'Like what you see? Visit the ' +\n",
              "            '<a target=\"_blank\" href=https://colab.research.google.com/notebooks/data_table.ipynb>data table notebook</a>'\n",
              "            + ' to learn more about interactive tables.';\n",
              "          element.innerHTML = '';\n",
              "          dataTable['output_type'] = 'display_data';\n",
              "          await google.colab.output.renderOutput(dataTable, element);\n",
              "          const docLink = document.createElement('div');\n",
              "          docLink.innerHTML = docLinkHtml;\n",
              "          element.appendChild(docLink);\n",
              "        }\n",
              "      </script>\n",
              "    </div>\n",
              "  </div>\n",
              "  "
            ]
          },
          "metadata": {},
          "execution_count": 161
        }
      ]
    },
    {
      "cell_type": "markdown",
      "source": [
        "## Splitting Data into Train and Test Sets"
      ],
      "metadata": {
        "id": "LiNeCl1Bh0Y6"
      }
    },
    {
      "cell_type": "code",
      "source": [
        "from sklearn.model_selection import train_test_split\n",
        "X_train, X_test, y_train, y_test=train_test_split(X,y,test_size=.2, random_state=42)"
      ],
      "metadata": {
        "id": "D1CZGaN6f-Gp"
      },
      "execution_count": 162,
      "outputs": []
    },
    {
      "cell_type": "markdown",
      "source": [
        "## Linear Regression"
      ],
      "metadata": {
        "id": "-tay8802ijbx"
      }
    },
    {
      "cell_type": "code",
      "source": [
        "from sklearn.linear_model import LinearRegression\n",
        "regressor=LinearRegression()\n",
        "Linear_regression_model = regressor.fit(X_train,y_train)"
      ],
      "metadata": {
        "id": "upZ0kGbRh6ib"
      },
      "execution_count": 163,
      "outputs": []
    },
    {
      "cell_type": "markdown",
      "source": [
        "Defining y_pred\n",
        "\n"
      ],
      "metadata": {
        "id": "F6Wa5QzSjcKr"
      }
    },
    {
      "cell_type": "code",
      "source": [
        "y_pred=regressor.predict(X_test)"
      ],
      "metadata": {
        "id": "orn4GdMri2OV"
      },
      "execution_count": 164,
      "outputs": []
    },
    {
      "cell_type": "markdown",
      "source": [
        "Assigning Coefficients"
      ],
      "metadata": {
        "id": "NiL0g301jgTl"
      }
    },
    {
      "cell_type": "code",
      "source": [
        "# The coefficients\n",
        "print(\"Coefficients\" , regressor.coef_)\n",
        "print(\"Intercept\", regressor.intercept_)"
      ],
      "metadata": {
        "colab": {
          "base_uri": "https://localhost:8080/"
        },
        "id": "79sSemO1i-rj",
        "outputId": "e725c6fb-47ac-4f34-d70b-dceb2684080d"
      },
      "execution_count": 165,
      "outputs": [
        {
          "output_type": "stream",
          "name": "stdout",
          "text": [
            "Coefficients [[0.77823802]]\n",
            "Intercept [0.08579628]\n"
          ]
        }
      ]
    },
    {
      "cell_type": "code",
      "source": [
        "plt.scatter(X_train,y_train)\n",
        "plt.plot(X_test,y_pred, color= \"red\")"
      ],
      "metadata": {
        "colab": {
          "base_uri": "https://localhost:8080/",
          "height": 282
        },
        "id": "-jypEFsOjnac",
        "outputId": "c7172d87-49f9-4b70-bd52-19179596673d"
      },
      "execution_count": 166,
      "outputs": [
        {
          "output_type": "execute_result",
          "data": {
            "text/plain": [
              "[<matplotlib.lines.Line2D at 0x7fe7248afdd0>]"
            ]
          },
          "metadata": {},
          "execution_count": 166
        },
        {
          "output_type": "display_data",
          "data": {
            "text/plain": [
              "<Figure size 432x288 with 1 Axes>"
            ],
            "image/png": "[encoded data removed]"
          },
          "metadata": {
            "needs_background": "light"
          }
        }
      ]
    },
    {
      "cell_type": "markdown",
      "source": [
        "#### Mean Squared Error and Root Mean Squared Error"
      ],
      "metadata": {
        "id": "7MA1AZ6VlNbm"
      }
    },
    {
      "cell_type": "code",
      "source": [
        "from sklearn.metrics import mean_squared_error\n",
        "Linear_MSE = mean_squared_error(y_true = y_test, y_pred = y_pred, squared = True)\n",
        "print(Linear_MSE)"
      ],
      "metadata": {
        "colab": {
          "base_uri": "https://localhost:8080/"
        },
        "id": "_RNEplw6jton",
        "outputId": "bd765a2f-b05b-4624-a752-7c56d1d6c7dc"
      },
      "execution_count": 167,
      "outputs": [
        {
          "output_type": "stream",
          "name": "stdout",
          "text": [
            "1413.5916941203989\n"
          ]
        }
      ]
    },
    {
      "cell_type": "code",
      "source": [
        "Linear_RMSE = mean_squared_error(y_true = y_test, y_pred = y_pred, squared = False)\n",
        "print(Linear_RMSE)"
      ],
      "metadata": {
        "colab": {
          "base_uri": "https://localhost:8080/"
        },
        "id": "7eAEnRNnnThX",
        "outputId": "8e440f9f-7fbf-4a03-990e-1fb10eb681dc"
      },
      "execution_count": 168,
      "outputs": [
        {
          "output_type": "stream",
          "name": "stdout",
          "text": [
            "37.597761823284095\n"
          ]
        }
      ]
    },
    {
      "cell_type": "markdown",
      "source": [
        "#### Training and Test Score"
      ],
      "metadata": {
        "id": "qj-RO1HUDTCJ"
      }
    },
    {
      "cell_type": "code",
      "source": [
        "Linear_regression_model.score(X_train, y_train)"
      ],
      "metadata": {
        "colab": {
          "base_uri": "https://localhost:8080/"
        },
        "id": "dnpp4_FsDSOY",
        "outputId": "0eb688c6-7188-4bf5-e876-05e1a4cbb7a7"
      },
      "execution_count": 169,
      "outputs": [
        {
          "output_type": "execute_result",
          "data": {
            "text/plain": [
              "0.785320015632156"
            ]
          },
          "metadata": {},
          "execution_count": 169
        }
      ]
    },
    {
      "cell_type": "code",
      "source": [
        "Linear_regression_model.score(X_test, y_test)"
      ],
      "metadata": {
        "colab": {
          "base_uri": "https://localhost:8080/"
        },
        "id": "LwvJ21JlDSdW",
        "outputId": "dd4295be-1c43-4047-d35f-e734fd53bd69"
      },
      "execution_count": 170,
      "outputs": [
        {
          "output_type": "execute_result",
          "data": {
            "text/plain": [
              "0.7969782556781813"
            ]
          },
          "metadata": {},
          "execution_count": 170
        }
      ]
    },
    {
      "cell_type": "markdown",
      "source": [
        "## Stochastic Gradient Descent"
      ],
      "metadata": {
        "id": "XU5zGWv2ojrw"
      }
    },
    {
      "cell_type": "code",
      "source": [
        "from sklearn.linear_model import SGDRegressor\n",
        "from sklearn.pipeline import make_pipeline\n",
        "from sklearn.preprocessing import StandardScaler"
      ],
      "metadata": {
        "id": "JP2yjCZJnUIF"
      },
      "execution_count": 171,
      "outputs": []
    },
    {
      "cell_type": "code",
      "source": [
        "reg = make_pipeline(StandardScaler(), SGDRegressor(max_iter = 1000, tol = 1e-3, eta0 = .05))\n",
        "Stochastic_regression_model = reg.fit(X_train, y_train)"
      ],
      "metadata": {
        "colab": {
          "base_uri": "https://localhost:8080/"
        },
        "id": "X7nNp8A_o4IP",
        "outputId": "98e16442-5375-4e19-80a0-6467555f84ae"
      },
      "execution_count": 172,
      "outputs": [
        {
          "output_type": "stream",
          "name": "stderr",
          "text": [
            "/usr/local/lib/python3.7/dist-packages/sklearn/utils/validation.py:993: DataConversionWarning: A column-vector y was passed when a 1d array was expected. Please change the shape of y to (n_samples, ), for example using ravel().\n",
            "  y = column_or_1d(y, warn=True)\n"
          ]
        }
      ]
    },
    {
      "cell_type": "markdown",
      "source": [
        "#### RMSE and MSE"
      ],
      "metadata": {
        "id": "oUjH6CWTFpD1"
      }
    },
    {
      "cell_type": "code",
      "source": [
        "y_pred_SGD = reg.predict(X_test)\n",
        "Stochastic_MSE = mean_squared_error(y_true = y_test, y_pred = y_pred_SGD, squared = True)\n",
        "print(Stochastic_MSE)"
      ],
      "metadata": {
        "colab": {
          "base_uri": "https://localhost:8080/"
        },
        "id": "2d10Enk-o777",
        "outputId": "8f7f907c-0342-4f26-e316-63748f3c1cef"
      },
      "execution_count": 173,
      "outputs": [
        {
          "output_type": "stream",
          "name": "stdout",
          "text": [
            "1447.2261923207407\n"
          ]
        }
      ]
    },
    {
      "cell_type": "code",
      "source": [
        "Stochastic_RMSE = mean_squared_error(y_true = y_test, y_pred = y_pred_SGD, squared = False)\n",
        "print(Stochastic_RMSE)"
      ],
      "metadata": {
        "colab": {
          "base_uri": "https://localhost:8080/"
        },
        "id": "iaZnsAw9pHE7",
        "outputId": "e16d94fb-db40-4a7e-ed8a-02d460f8200c"
      },
      "execution_count": 174,
      "outputs": [
        {
          "output_type": "stream",
          "name": "stdout",
          "text": [
            "38.042426214960855\n"
          ]
        }
      ]
    },
    {
      "cell_type": "markdown",
      "source": [
        "#### Training and Test Scores"
      ],
      "metadata": {
        "id": "uQNtoqOsFvMc"
      }
    },
    {
      "cell_type": "code",
      "source": [
        "Stochastic_regression_model.score(X_train, y_train)"
      ],
      "metadata": {
        "colab": {
          "base_uri": "https://localhost:8080/"
        },
        "id": "KO-s_DBzFzUr",
        "outputId": "6f7ef7d7-773c-4ed0-d237-c3dbe335dec3"
      },
      "execution_count": 175,
      "outputs": [
        {
          "output_type": "execute_result",
          "data": {
            "text/plain": [
              "0.7817246885592877"
            ]
          },
          "metadata": {},
          "execution_count": 175
        }
      ]
    },
    {
      "cell_type": "code",
      "source": [
        "Stochastic_regression_model.score(X_test, y_test)"
      ],
      "metadata": {
        "colab": {
          "base_uri": "https://localhost:8080/"
        },
        "id": "uDp97fNCFzX6",
        "outputId": "cc9ea2de-0d4e-4a44-bf3a-adb86cdae326"
      },
      "execution_count": 176,
      "outputs": [
        {
          "output_type": "execute_result",
          "data": {
            "text/plain": [
              "0.7921476284734341"
            ]
          },
          "metadata": {},
          "execution_count": 176
        }
      ]
    },
    {
      "cell_type": "markdown",
      "source": [
        "## Ridge Regression"
      ],
      "metadata": {
        "id": "h8-uUBTzqLH9"
      }
    },
    {
      "cell_type": "code",
      "source": [
        "from sklearn.linear_model import Ridge \n",
        "Ridge_model = Ridge(alpha = 2, max_iter = 1000, tol = 0.5)\n",
        "Ridge_model.fit(X_train, y_train)"
      ],
      "metadata": {
        "colab": {
          "base_uri": "https://localhost:8080/"
        },
        "id": "7QcRHYcZpXCi",
        "outputId": "74f718ff-476c-442c-d1b3-bd118241a5aa"
      },
      "execution_count": 177,
      "outputs": [
        {
          "output_type": "execute_result",
          "data": {
            "text/plain": [
              "Ridge(alpha=2, max_iter=1000, tol=0.5)"
            ]
          },
          "metadata": {},
          "execution_count": 177
        }
      ]
    },
    {
      "cell_type": "markdown",
      "source": [
        "#### RMSE and MSE"
      ],
      "metadata": {
        "id": "a6f0060vG57I"
      }
    },
    {
      "cell_type": "code",
      "source": [
        "y_pred_Rreg = Ridge_model.predict(X_test)\n",
        "Ridge_MSE = mean_squared_error(y_true = y_test, y_pred = y_pred_Rreg, squared = True)\n",
        "print(Ridge_MSE)"
      ],
      "metadata": {
        "colab": {
          "base_uri": "https://localhost:8080/"
        },
        "id": "myq0654xG8pB",
        "outputId": "8fbf1e66-bc38-4314-a760-89373cfcfb8f"
      },
      "execution_count": 178,
      "outputs": [
        {
          "output_type": "stream",
          "name": "stdout",
          "text": [
            "1413.591695259295\n"
          ]
        }
      ]
    },
    {
      "cell_type": "code",
      "source": [
        "Ridge_RMSE = mean_squared_error(y_true = y_test, y_pred = y_pred_Rreg, squared = False)\n",
        "print(Ridge_RMSE)"
      ],
      "metadata": {
        "colab": {
          "base_uri": "https://localhost:8080/"
        },
        "id": "fL4mUImlG8rf",
        "outputId": "649d40ed-ed98-43a4-96f9-3f6467f00b2f"
      },
      "execution_count": 179,
      "outputs": [
        {
          "output_type": "stream",
          "name": "stdout",
          "text": [
            "37.59776183842989\n"
          ]
        }
      ]
    },
    {
      "cell_type": "markdown",
      "source": [
        "#### Training and Test Scores"
      ],
      "metadata": {
        "id": "zP0mnlqlGw7r"
      }
    },
    {
      "cell_type": "code",
      "source": [
        "Ridge_model.score(X_train, y_train)"
      ],
      "metadata": {
        "colab": {
          "base_uri": "https://localhost:8080/"
        },
        "id": "tLxfEN3NqgNk",
        "outputId": "30f9b75f-d97e-424b-8e9f-ab0700a4795a"
      },
      "execution_count": 180,
      "outputs": [
        {
          "output_type": "execute_result",
          "data": {
            "text/plain": [
              "0.7853200156321559"
            ]
          },
          "metadata": {},
          "execution_count": 180
        }
      ]
    },
    {
      "cell_type": "code",
      "source": [
        "Ridge_model.score(X_test, y_test)"
      ],
      "metadata": {
        "colab": {
          "base_uri": "https://localhost:8080/"
        },
        "id": "w26UDM4XqiqF",
        "outputId": "37691592-ed8e-4cfc-cae9-66a24cf07436"
      },
      "execution_count": 181,
      "outputs": [
        {
          "output_type": "execute_result",
          "data": {
            "text/plain": [
              "0.7969782555146115"
            ]
          },
          "metadata": {},
          "execution_count": 181
        }
      ]
    },
    {
      "cell_type": "markdown",
      "source": [
        "## Lasso Regression"
      ],
      "metadata": {
        "id": "EL_l8YszqsGR"
      }
    },
    {
      "cell_type": "code",
      "source": [
        "from sklearn.linear_model import Lasso\n",
        "Lasso_model = Lasso(alpha = 2, max_iter = 1000, tol = 0.5)\n",
        "Lasso_model.fit(X_train, y_train)"
      ],
      "metadata": {
        "colab": {
          "base_uri": "https://localhost:8080/"
        },
        "id": "9tBH_nZ6qkgw",
        "outputId": "9ca35c23-35b4-4a90-bed0-7d58e9303e3d"
      },
      "execution_count": 182,
      "outputs": [
        {
          "output_type": "execute_result",
          "data": {
            "text/plain": [
              "Lasso(alpha=2, tol=0.5)"
            ]
          },
          "metadata": {},
          "execution_count": 182
        }
      ]
    },
    {
      "cell_type": "markdown",
      "source": [
        "#### RMSE and MSE"
      ],
      "metadata": {
        "id": "HHvvNalaYl5o"
      }
    },
    {
      "cell_type": "code",
      "source": [
        "y_pred_LR = Lasso_model.predict(X_test)\n",
        "Lasso_MSE = mean_squared_error(y_true = y_test, y_pred = y_pred_LR, squared = True)\n",
        "print(Lasso_MSE)"
      ],
      "metadata": {
        "colab": {
          "base_uri": "https://localhost:8080/"
        },
        "id": "p2yLYZ6cYmvQ",
        "outputId": "8887b62e-2f7f-4ebe-a543-e260e28d43ad"
      },
      "execution_count": 183,
      "outputs": [
        {
          "output_type": "stream",
          "name": "stdout",
          "text": [
            "1413.633127567473\n"
          ]
        }
      ]
    },
    {
      "cell_type": "code",
      "source": [
        "Lasso_RMSE = mean_squared_error(y_true = y_test, y_pred = y_pred_LR, squared = False)\n",
        "print(Lasso_RMSE)"
      ],
      "metadata": {
        "colab": {
          "base_uri": "https://localhost:8080/"
        },
        "id": "xegHQkjKYmyF",
        "outputId": "fe09bdb7-3d75-4fc2-88ff-40c6957abf13"
      },
      "execution_count": 184,
      "outputs": [
        {
          "output_type": "stream",
          "name": "stdout",
          "text": [
            "37.59831282873572\n"
          ]
        }
      ]
    },
    {
      "cell_type": "markdown",
      "source": [
        "#### Training and Test Scores"
      ],
      "metadata": {
        "id": "NV51dX2eYfcH"
      }
    },
    {
      "cell_type": "code",
      "source": [
        "Lasso_model.score(X_train, y_train)"
      ],
      "metadata": {
        "colab": {
          "base_uri": "https://localhost:8080/"
        },
        "id": "zFxyYmq9qyy5",
        "outputId": "1c5fc3bc-b13e-486e-d244-a71800226fe1"
      },
      "execution_count": 185,
      "outputs": [
        {
          "output_type": "execute_result",
          "data": {
            "text/plain": [
              "0.7853199599533285"
            ]
          },
          "metadata": {},
          "execution_count": 185
        }
      ]
    },
    {
      "cell_type": "code",
      "source": [
        "Lasso_model.score(X_test, y_test)"
      ],
      "metadata": {
        "colab": {
          "base_uri": "https://localhost:8080/"
        },
        "id": "xTfdjX5Kq9wz",
        "outputId": "2423fd50-2a2f-4f84-dac1-037bb18d97d6"
      },
      "execution_count": 186,
      "outputs": [
        {
          "output_type": "execute_result",
          "data": {
            "text/plain": [
              "0.7969723049565314"
            ]
          },
          "metadata": {},
          "execution_count": 186
        }
      ]
    },
    {
      "cell_type": "markdown",
      "source": [
        "## ElasticNet"
      ],
      "metadata": {
        "id": "HYpmiOiosVOr"
      }
    },
    {
      "cell_type": "code",
      "source": [
        "from sklearn.linear_model import ElasticNet\n",
        "ElasticNet_model = ElasticNet(alpha = .01, l1_ratio = 0.5)\n",
        "ElasticNet_model.fit(X_train, y_train)"
      ],
      "metadata": {
        "colab": {
          "base_uri": "https://localhost:8080/"
        },
        "id": "gqrYZu_jsPNN",
        "outputId": "65b22615-97db-4ac4-d3a4-1fc5ab756e21"
      },
      "execution_count": 187,
      "outputs": [
        {
          "output_type": "execute_result",
          "data": {
            "text/plain": [
              "ElasticNet(alpha=0.01)"
            ]
          },
          "metadata": {},
          "execution_count": 187
        }
      ]
    },
    {
      "cell_type": "markdown",
      "source": [
        "#### RMSE and MSE"
      ],
      "metadata": {
        "id": "b9M-UFMiZYym"
      }
    },
    {
      "cell_type": "code",
      "source": [
        "y_pred_EN = ElasticNet_model.predict(X_test)\n",
        "ElasticNet_MSE = mean_squared_error(y_true = y_test, y_pred = y_pred_EN, squared = True)\n",
        "print(ElasticNet_MSE)"
      ],
      "metadata": {
        "colab": {
          "base_uri": "https://localhost:8080/"
        },
        "id": "T-t36p4EZbQj",
        "outputId": "481c2b73-f667-4e7e-9e7e-0675b7ce2bfc"
      },
      "execution_count": 188,
      "outputs": [
        {
          "output_type": "stream",
          "name": "stdout",
          "text": [
            "1413.5918766223665\n"
          ]
        }
      ]
    },
    {
      "cell_type": "code",
      "source": [
        "ElasticNet_RMSE = mean_squared_error(y_true = y_test, y_pred = y_pred_EN, squared = False)\n",
        "print(ElasticNet_RMSE)"
      ],
      "metadata": {
        "colab": {
          "base_uri": "https://localhost:8080/"
        },
        "id": "lP9qIKJfZbTK",
        "outputId": "5c438de6-9dad-4fce-a5a9-2f6fdca8f0d8"
      },
      "execution_count": 189,
      "outputs": [
        {
          "output_type": "stream",
          "name": "stdout",
          "text": [
            "37.59776425031635\n"
          ]
        }
      ]
    },
    {
      "cell_type": "markdown",
      "source": [
        "#### Training and Test Scores"
      ],
      "metadata": {
        "id": "JwWBPqy7ZU16"
      }
    },
    {
      "cell_type": "code",
      "source": [
        "ElasticNet_model.score(X_train, y_train)"
      ],
      "metadata": {
        "colab": {
          "base_uri": "https://localhost:8080/"
        },
        "id": "ajWjLlnnsgtv",
        "outputId": "495dd9fe-7227-474e-b712-c532b1287d26"
      },
      "execution_count": 190,
      "outputs": [
        {
          "output_type": "execute_result",
          "data": {
            "text/plain": [
              "0.7853200156310556"
            ]
          },
          "metadata": {},
          "execution_count": 190
        }
      ]
    },
    {
      "cell_type": "code",
      "source": [
        "ElasticNet_model.score(X_test, y_test)"
      ],
      "metadata": {
        "colab": {
          "base_uri": "https://localhost:8080/"
        },
        "id": "SiTF59EesjYi",
        "outputId": "69df9fb2-26b8-470f-a775-dd235f692f81"
      },
      "execution_count": 191,
      "outputs": [
        {
          "output_type": "execute_result",
          "data": {
            "text/plain": [
              "0.7969782294670285"
            ]
          },
          "metadata": {},
          "execution_count": 191
        }
      ]
    },
    {
      "cell_type": "markdown",
      "source": [
        "## Pretty Table"
      ],
      "metadata": {
        "id": "cnA48hxpxXTL"
      }
    },
    {
      "cell_type": "code",
      "source": [
        "from prettytable import PrettyTable"
      ],
      "metadata": {
        "id": "JSnCXSIksllj"
      },
      "execution_count": 192,
      "outputs": []
    },
    {
      "cell_type": "code",
      "source": [
        "myTable = PrettyTable([\"Model\", \"Training_score\", \"Test_score\", \"RMSE\", \"MSE\"])"
      ],
      "metadata": {
        "id": "mWHVg13DZ-GO"
      },
      "execution_count": 193,
      "outputs": []
    },
    {
      "cell_type": "code",
      "source": [
        "myTable.add_row([\"Linear\", Linear_regression_model.score(X_train, y_train), Linear_regression_model.score(X_test, y_test), Linear_RMSE, Linear_MSE])\n",
        "myTable.add_row([\"Stochastic Gradient\", Stochastic_regression_model.score(X_train, y_train), Stochastic_regression_model.score(X_test, y_test), Stochastic_RMSE, Stochastic_MSE])\n",
        "myTable.add_row([\"Ridge\", Ridge_model.score(X_train, y_train), Ridge_model.score(X_test, y_test), Ridge_RMSE, Ridge_MSE])\n",
        "myTable.add_row([\"Lasso\", Lasso_model.score(X_train, y_train), Lasso_model.score(X_test, y_test), Lasso_RMSE, Lasso_MSE])\n",
        "myTable.add_row([\"ElasticNet\", ElasticNet_model.score(X_train, y_train), ElasticNet_model.score(X_test, y_test), ElasticNet_RMSE, ElasticNet_MSE])"
      ],
      "metadata": {
        "id": "ZRxATHWYaED8"
      },
      "execution_count": 194,
      "outputs": []
    },
    {
      "cell_type": "code",
      "source": [
        "print(myTable)"
      ],
      "metadata": {
        "colab": {
          "base_uri": "https://localhost:8080/"
        },
        "id": "VrkeTj9bagUl",
        "outputId": "f69e7340-49a2-4407-d440-4955f45a2974"
      },
      "execution_count": 195,
      "outputs": [
        {
          "output_type": "stream",
          "name": "stdout",
          "text": [
            "+---------------------+--------------------+--------------------+--------------------+--------------------+\n",
            "|        Model        |   Training_score   |     Test_score     |        RMSE        |        MSE         |\n",
            "+---------------------+--------------------+--------------------+--------------------+--------------------+\n",
            "|        Linear       | 0.785320015632156  | 0.7969782556781813 | 37.597761823284095 | 1413.5916941203989 |\n",
            "| Stochastic Gradient | 0.7817246885592877 | 0.7921476284734341 | 38.042426214960855 | 1447.2261923207407 |\n",
            "|        Ridge        | 0.7853200156321559 | 0.7969782555146115 | 37.59776183842989  | 1413.591695259295  |\n",
            "|        Lasso        | 0.7853199599533285 | 0.7969723049565314 | 37.59831282873572  | 1413.633127567473  |\n",
            "|      ElasticNet     | 0.7853200156310556 | 0.7969782294670285 | 37.59776425031635  | 1413.5918766223665 |\n",
            "+---------------------+--------------------+--------------------+--------------------+--------------------+\n"
          ]
        }
      ]
    },
    {
      "cell_type": "markdown",
      "source": [
        "As seen above the Training_score and Test_score are very close together and there is only a .01 difference for all Regression models. This shows that the model is neither underfitting or overfitting. The mean squared error (MSE) tells you how close a regression line is to a set of points. When a model has no error, the MSE equals zero. The lower the MSE value the better. It depends on the range of the dataset, so the numbers I got could be good or bad. "
      ],
      "metadata": {
        "id": "nx-d4bvFdDbU"
      }
    },
    {
      "cell_type": "code",
      "source": [],
      "metadata": {
        "id": "zPBRrKvRhNEB"
      },
      "execution_count": null,
      "outputs": []
    }
  ]
}